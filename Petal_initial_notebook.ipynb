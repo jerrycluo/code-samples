{
 "cells": [
  {
   "cell_type": "code",
   "execution_count": 3,
   "id": "60249b69",
   "metadata": {
    "id": "60249b69"
   },
   "outputs": [],
   "source": [
    "import pickle\n",
    "import matplotlib.pyplot as plt\n",
    "import pandas as pd\n",
    "import warnings\n",
    "warnings.filterwarnings('ignore')"
   ]
  },
  {
   "cell_type": "code",
   "execution_count": 5,
   "id": "387a7f91",
   "metadata": {
    "colab": {
     "base_uri": "https://localhost:8080/",
     "height": 182
    },
    "id": "387a7f91",
    "outputId": "74bb2f62-daba-4ef2-b25d-f3345f568e1a"
   },
   "outputs": [],
   "source": [
    "with open('dataDictionary.pkl', 'rb') as f:\n",
    "    dataDictionary = pickle.load(f) "
   ]
  },
  {
   "cell_type": "code",
   "execution_count": 6,
   "id": "affd5d24",
   "metadata": {
    "colab": {
     "base_uri": "https://localhost:8080/",
     "height": 424
    },
    "id": "affd5d24",
    "outputId": "21188046-f99c-4625-97d2-257c9804310a",
    "scrolled": false
   },
   "outputs": [
    {
     "data": {
      "text/html": [
       "<div>\n",
       "<style scoped>\n",
       "    .dataframe tbody tr th:only-of-type {\n",
       "        vertical-align: middle;\n",
       "    }\n",
       "\n",
       "    .dataframe tbody tr th {\n",
       "        vertical-align: top;\n",
       "    }\n",
       "\n",
       "    .dataframe thead th {\n",
       "        text-align: right;\n",
       "    }\n",
       "</style>\n",
       "<table border=\"1\" class=\"dataframe\">\n",
       "  <thead>\n",
       "    <tr style=\"text-align: right;\">\n",
       "      <th></th>\n",
       "      <th>name</th>\n",
       "      <th>description</th>\n",
       "      <th>units</th>\n",
       "      <th>valid values</th>\n",
       "      <th>var_type</th>\n",
       "      <th>min</th>\n",
       "      <th>max</th>\n",
       "    </tr>\n",
       "  </thead>\n",
       "  <tbody>\n",
       "    <tr>\n",
       "      <th>0</th>\n",
       "      <td>all0000</td>\n",
       "      <td>Total number of trades including collections a...</td>\n",
       "      <td>Trades</td>\n",
       "      <td>0-90</td>\n",
       "      <td>numeric</td>\n",
       "      <td>0</td>\n",
       "      <td>90</td>\n",
       "    </tr>\n",
       "    <tr>\n",
       "      <th>1</th>\n",
       "      <td>all0060</td>\n",
       "      <td>Total number of trades excluding collections o...</td>\n",
       "      <td>Trades</td>\n",
       "      <td>0-90</td>\n",
       "      <td>numeric</td>\n",
       "      <td>0</td>\n",
       "      <td>90</td>\n",
       "    </tr>\n",
       "    <tr>\n",
       "      <th>2</th>\n",
       "      <td>all0061</td>\n",
       "      <td>Total number of trades excluding collections o...</td>\n",
       "      <td>Trades</td>\n",
       "      <td>0-90</td>\n",
       "      <td>numeric</td>\n",
       "      <td>0</td>\n",
       "      <td>90</td>\n",
       "    </tr>\n",
       "    <tr>\n",
       "      <th>3</th>\n",
       "      <td>all0101</td>\n",
       "      <td>Total number of Fannie Mae trades including in...</td>\n",
       "      <td>Trades</td>\n",
       "      <td>0-90</td>\n",
       "      <td>numeric</td>\n",
       "      <td>0</td>\n",
       "      <td>90</td>\n",
       "    </tr>\n",
       "    <tr>\n",
       "      <th>4</th>\n",
       "      <td>all0200</td>\n",
       "      <td>Total number of trades including collections</td>\n",
       "      <td>Trades</td>\n",
       "      <td>0-90</td>\n",
       "      <td>numeric</td>\n",
       "      <td>0</td>\n",
       "      <td>90</td>\n",
       "    </tr>\n",
       "    <tr>\n",
       "      <th>...</th>\n",
       "      <td>...</td>\n",
       "      <td>...</td>\n",
       "      <td>...</td>\n",
       "      <td>...</td>\n",
       "      <td>...</td>\n",
       "      <td>...</td>\n",
       "      <td>...</td>\n",
       "    </tr>\n",
       "    <tr>\n",
       "      <th>818</th>\n",
       "      <td>stu8142</td>\n",
       "      <td>Number of months to the nearest future payment...</td>\n",
       "      <td>Months</td>\n",
       "      <td>0-9990</td>\n",
       "      <td>numeric</td>\n",
       "      <td>0</td>\n",
       "      <td>9990</td>\n",
       "    </tr>\n",
       "    <tr>\n",
       "      <th>819</th>\n",
       "      <td>stu8151</td>\n",
       "      <td>Number of months since the most recent 30-180 ...</td>\n",
       "      <td>Months</td>\n",
       "      <td>0-9990</td>\n",
       "      <td>numeric</td>\n",
       "      <td>0</td>\n",
       "      <td>9990</td>\n",
       "    </tr>\n",
       "    <tr>\n",
       "      <th>820</th>\n",
       "      <td>stu8228</td>\n",
       "      <td>Number of months since the oldest non-deferred...</td>\n",
       "      <td>Months</td>\n",
       "      <td>0-9990</td>\n",
       "      <td>numeric</td>\n",
       "      <td>0</td>\n",
       "      <td>9990</td>\n",
       "    </tr>\n",
       "    <tr>\n",
       "      <th>821</th>\n",
       "      <td>use0300</td>\n",
       "      <td>Total number of authorized user trades</td>\n",
       "      <td>Trades</td>\n",
       "      <td>0-90</td>\n",
       "      <td>numeric</td>\n",
       "      <td>0</td>\n",
       "      <td>90</td>\n",
       "    </tr>\n",
       "    <tr>\n",
       "      <th>822</th>\n",
       "      <td>use0416</td>\n",
       "      <td>Total number of open authorized user trades re...</td>\n",
       "      <td>Trades</td>\n",
       "      <td>0-90</td>\n",
       "      <td>numeric</td>\n",
       "      <td>0</td>\n",
       "      <td>90</td>\n",
       "    </tr>\n",
       "  </tbody>\n",
       "</table>\n",
       "<p>823 rows × 7 columns</p>\n",
       "</div>"
      ],
      "text/plain": [
       "        name                                        description   units  \\\n",
       "0    all0000  Total number of trades including collections a...  Trades   \n",
       "1    all0060  Total number of trades excluding collections o...  Trades   \n",
       "2    all0061  Total number of trades excluding collections o...  Trades   \n",
       "3    all0101  Total number of Fannie Mae trades including in...  Trades   \n",
       "4    all0200       Total number of trades including collections  Trades   \n",
       "..       ...                                                ...     ...   \n",
       "818  stu8142  Number of months to the nearest future payment...  Months   \n",
       "819  stu8151  Number of months since the most recent 30-180 ...  Months   \n",
       "820  stu8228  Number of months since the oldest non-deferred...  Months   \n",
       "821  use0300             Total number of authorized user trades  Trades   \n",
       "822  use0416  Total number of open authorized user trades re...  Trades   \n",
       "\n",
       "    valid values var_type  min   max  \n",
       "0           0-90  numeric    0    90  \n",
       "1           0-90  numeric    0    90  \n",
       "2           0-90  numeric    0    90  \n",
       "3           0-90  numeric    0    90  \n",
       "4           0-90  numeric    0    90  \n",
       "..           ...      ...  ...   ...  \n",
       "818       0-9990  numeric    0  9990  \n",
       "819       0-9990  numeric    0  9990  \n",
       "820       0-9990  numeric    0  9990  \n",
       "821         0-90  numeric    0    90  \n",
       "822         0-90  numeric    0    90  \n",
       "\n",
       "[823 rows x 7 columns]"
      ]
     },
     "execution_count": 6,
     "metadata": {},
     "output_type": "execute_result"
    }
   ],
   "source": [
    "dataDictionary"
   ]
  },
  {
   "cell_type": "code",
   "execution_count": 7,
   "id": "pWCAK_x22_ea",
   "metadata": {
    "id": "pWCAK_x22_ea"
   },
   "outputs": [],
   "source": [
    "forStudents = pd.read_pickle('forStudents.pkl')"
   ]
  },
  {
   "cell_type": "code",
   "execution_count": 8,
   "id": "0f51302b",
   "metadata": {
    "colab": {
     "base_uri": "https://localhost:8080/",
     "height": 488
    },
    "id": "0f51302b",
    "outputId": "717795d7-9177-4b06-81a4-5878beb0365a",
    "scrolled": true
   },
   "outputs": [
    {
     "data": {
      "text/html": [
       "<div>\n",
       "<style scoped>\n",
       "    .dataframe tbody tr th:only-of-type {\n",
       "        vertical-align: middle;\n",
       "    }\n",
       "\n",
       "    .dataframe tbody tr th {\n",
       "        vertical-align: top;\n",
       "    }\n",
       "\n",
       "    .dataframe thead th {\n",
       "        text-align: right;\n",
       "    }\n",
       "</style>\n",
       "<table border=\"1\" class=\"dataframe\">\n",
       "  <thead>\n",
       "    <tr style=\"text-align: right;\">\n",
       "      <th></th>\n",
       "      <th>acquisition_type</th>\n",
       "      <th>snapshot_type</th>\n",
       "      <th>channel</th>\n",
       "      <th>evaluation_dt</th>\n",
       "      <th>vintage</th>\n",
       "      <th>is_app_approved</th>\n",
       "      <th>vantage3_score</th>\n",
       "      <th>bad</th>\n",
       "      <th>bad_v2</th>\n",
       "      <th>bad_balance</th>\n",
       "      <th>...</th>\n",
       "      <th>rtr5930</th>\n",
       "      <th>rtr7110</th>\n",
       "      <th>rtr7140</th>\n",
       "      <th>rtr7160</th>\n",
       "      <th>rtr7216</th>\n",
       "      <th>rtr7620</th>\n",
       "      <th>rtr8120</th>\n",
       "      <th>rtr8220</th>\n",
       "      <th>rtr8320</th>\n",
       "      <th>rowNumber</th>\n",
       "    </tr>\n",
       "  </thead>\n",
       "  <tbody>\n",
       "    <tr>\n",
       "      <th>0</th>\n",
       "      <td>ORGANIC</td>\n",
       "      <td>FLOW_MODULARITY</td>\n",
       "      <td>OTHER</td>\n",
       "      <td>2021-08-04</td>\n",
       "      <td>202108</td>\n",
       "      <td>1</td>\n",
       "      <td>698.0</td>\n",
       "      <td>0.0</td>\n",
       "      <td>0.0</td>\n",
       "      <td>0.0</td>\n",
       "      <td>...</td>\n",
       "      <td>2.0</td>\n",
       "      <td>4.0</td>\n",
       "      <td>4.0</td>\n",
       "      <td>9.0</td>\n",
       "      <td>5.0</td>\n",
       "      <td>100.0</td>\n",
       "      <td>5.0</td>\n",
       "      <td>5.0</td>\n",
       "      <td>5.0</td>\n",
       "      <td>59486</td>\n",
       "    </tr>\n",
       "    <tr>\n",
       "      <th>1</th>\n",
       "      <td>ORGANIC</td>\n",
       "      <td>FLOW_MODULARITY</td>\n",
       "      <td>OTHER</td>\n",
       "      <td>2021-03-01</td>\n",
       "      <td>202103</td>\n",
       "      <td>1</td>\n",
       "      <td>731.0</td>\n",
       "      <td>0.0</td>\n",
       "      <td>0.0</td>\n",
       "      <td>0.0</td>\n",
       "      <td>...</td>\n",
       "      <td>30.0</td>\n",
       "      <td>2.0</td>\n",
       "      <td>2.0</td>\n",
       "      <td>130.0</td>\n",
       "      <td>12.0</td>\n",
       "      <td>100.0</td>\n",
       "      <td>4.0</td>\n",
       "      <td>4.0</td>\n",
       "      <td>4.0</td>\n",
       "      <td>2357</td>\n",
       "    </tr>\n",
       "    <tr>\n",
       "      <th>2</th>\n",
       "      <td>ORGANIC</td>\n",
       "      <td>FLOW_MODULARITY</td>\n",
       "      <td>OTHER</td>\n",
       "      <td>2021-02-26</td>\n",
       "      <td>202102</td>\n",
       "      <td>1</td>\n",
       "      <td>NaN</td>\n",
       "      <td>0.0</td>\n",
       "      <td>0.0</td>\n",
       "      <td>0.0</td>\n",
       "      <td>...</td>\n",
       "      <td>NaN</td>\n",
       "      <td>NaN</td>\n",
       "      <td>NaN</td>\n",
       "      <td>NaN</td>\n",
       "      <td>NaN</td>\n",
       "      <td>NaN</td>\n",
       "      <td>NaN</td>\n",
       "      <td>NaN</td>\n",
       "      <td>NaN</td>\n",
       "      <td>90398</td>\n",
       "    </tr>\n",
       "    <tr>\n",
       "      <th>3</th>\n",
       "      <td>ORGANIC</td>\n",
       "      <td>FLOW_MODULARITY</td>\n",
       "      <td>OTHER</td>\n",
       "      <td>2021-06-04</td>\n",
       "      <td>202106</td>\n",
       "      <td>1</td>\n",
       "      <td>715.0</td>\n",
       "      <td>0.0</td>\n",
       "      <td>0.0</td>\n",
       "      <td>0.0</td>\n",
       "      <td>...</td>\n",
       "      <td>249.0</td>\n",
       "      <td>18.0</td>\n",
       "      <td>18.0</td>\n",
       "      <td>56.0</td>\n",
       "      <td>7.0</td>\n",
       "      <td>100.0</td>\n",
       "      <td>5.0</td>\n",
       "      <td>151.0</td>\n",
       "      <td>45.0</td>\n",
       "      <td>104654</td>\n",
       "    </tr>\n",
       "    <tr>\n",
       "      <th>4</th>\n",
       "      <td>ORGANIC</td>\n",
       "      <td>FLOW_MODULARITY</td>\n",
       "      <td>OTHER</td>\n",
       "      <td>2021-07-14</td>\n",
       "      <td>202107</td>\n",
       "      <td>1</td>\n",
       "      <td>NaN</td>\n",
       "      <td>0.0</td>\n",
       "      <td>0.0</td>\n",
       "      <td>0.0</td>\n",
       "      <td>...</td>\n",
       "      <td>NaN</td>\n",
       "      <td>NaN</td>\n",
       "      <td>NaN</td>\n",
       "      <td>NaN</td>\n",
       "      <td>NaN</td>\n",
       "      <td>NaN</td>\n",
       "      <td>NaN</td>\n",
       "      <td>NaN</td>\n",
       "      <td>NaN</td>\n",
       "      <td>89292</td>\n",
       "    </tr>\n",
       "    <tr>\n",
       "      <th>...</th>\n",
       "      <td>...</td>\n",
       "      <td>...</td>\n",
       "      <td>...</td>\n",
       "      <td>...</td>\n",
       "      <td>...</td>\n",
       "      <td>...</td>\n",
       "      <td>...</td>\n",
       "      <td>...</td>\n",
       "      <td>...</td>\n",
       "      <td>...</td>\n",
       "      <td>...</td>\n",
       "      <td>...</td>\n",
       "      <td>...</td>\n",
       "      <td>...</td>\n",
       "      <td>...</td>\n",
       "      <td>...</td>\n",
       "      <td>...</td>\n",
       "      <td>...</td>\n",
       "      <td>...</td>\n",
       "      <td>...</td>\n",
       "      <td>...</td>\n",
       "    </tr>\n",
       "    <tr>\n",
       "      <th>48707</th>\n",
       "      <td>ORGANIC</td>\n",
       "      <td>FLOW_MODULARITY</td>\n",
       "      <td>OTHER</td>\n",
       "      <td>2021-05-01</td>\n",
       "      <td>202105</td>\n",
       "      <td>1</td>\n",
       "      <td>732.0</td>\n",
       "      <td>0.0</td>\n",
       "      <td>0.0</td>\n",
       "      <td>0.0</td>\n",
       "      <td>...</td>\n",
       "      <td>NaN</td>\n",
       "      <td>NaN</td>\n",
       "      <td>NaN</td>\n",
       "      <td>NaN</td>\n",
       "      <td>0.0</td>\n",
       "      <td>NaN</td>\n",
       "      <td>NaN</td>\n",
       "      <td>NaN</td>\n",
       "      <td>NaN</td>\n",
       "      <td>131881</td>\n",
       "    </tr>\n",
       "    <tr>\n",
       "      <th>48708</th>\n",
       "      <td>ORGANIC</td>\n",
       "      <td>FLOW_MODULARITY</td>\n",
       "      <td>OTHER</td>\n",
       "      <td>2020-11-29</td>\n",
       "      <td>202011</td>\n",
       "      <td>1</td>\n",
       "      <td>705.0</td>\n",
       "      <td>0.0</td>\n",
       "      <td>0.0</td>\n",
       "      <td>0.0</td>\n",
       "      <td>...</td>\n",
       "      <td>NaN</td>\n",
       "      <td>NaN</td>\n",
       "      <td>NaN</td>\n",
       "      <td>NaN</td>\n",
       "      <td>0.0</td>\n",
       "      <td>NaN</td>\n",
       "      <td>NaN</td>\n",
       "      <td>NaN</td>\n",
       "      <td>NaN</td>\n",
       "      <td>47197</td>\n",
       "    </tr>\n",
       "    <tr>\n",
       "      <th>48709</th>\n",
       "      <td>ORGANIC</td>\n",
       "      <td>FLOW_MODULARITY</td>\n",
       "      <td>OTHER</td>\n",
       "      <td>2021-04-25</td>\n",
       "      <td>202104</td>\n",
       "      <td>1</td>\n",
       "      <td>722.0</td>\n",
       "      <td>0.0</td>\n",
       "      <td>0.0</td>\n",
       "      <td>0.0</td>\n",
       "      <td>...</td>\n",
       "      <td>0.0</td>\n",
       "      <td>0.0</td>\n",
       "      <td>0.0</td>\n",
       "      <td>NaN</td>\n",
       "      <td>0.0</td>\n",
       "      <td>NaN</td>\n",
       "      <td>2.0</td>\n",
       "      <td>167.0</td>\n",
       "      <td>86.0</td>\n",
       "      <td>29739</td>\n",
       "    </tr>\n",
       "    <tr>\n",
       "      <th>48710</th>\n",
       "      <td>ORGANIC</td>\n",
       "      <td>FLOW_MODULARITY</td>\n",
       "      <td>OTHER</td>\n",
       "      <td>2021-04-10</td>\n",
       "      <td>202104</td>\n",
       "      <td>1</td>\n",
       "      <td>NaN</td>\n",
       "      <td>0.0</td>\n",
       "      <td>0.0</td>\n",
       "      <td>0.0</td>\n",
       "      <td>...</td>\n",
       "      <td>NaN</td>\n",
       "      <td>NaN</td>\n",
       "      <td>NaN</td>\n",
       "      <td>NaN</td>\n",
       "      <td>NaN</td>\n",
       "      <td>NaN</td>\n",
       "      <td>NaN</td>\n",
       "      <td>NaN</td>\n",
       "      <td>NaN</td>\n",
       "      <td>89207</td>\n",
       "    </tr>\n",
       "    <tr>\n",
       "      <th>48711</th>\n",
       "      <td>ORGANIC</td>\n",
       "      <td>FLOW_MODULARITY</td>\n",
       "      <td>CK_ITA</td>\n",
       "      <td>2021-05-13</td>\n",
       "      <td>202105</td>\n",
       "      <td>1</td>\n",
       "      <td>634.0</td>\n",
       "      <td>0.0</td>\n",
       "      <td>0.0</td>\n",
       "      <td>0.0</td>\n",
       "      <td>...</td>\n",
       "      <td>60.0</td>\n",
       "      <td>28.0</td>\n",
       "      <td>28.0</td>\n",
       "      <td>15.0</td>\n",
       "      <td>59.0</td>\n",
       "      <td>67.0</td>\n",
       "      <td>12.0</td>\n",
       "      <td>21.0</td>\n",
       "      <td>17.0</td>\n",
       "      <td>50643</td>\n",
       "    </tr>\n",
       "  </tbody>\n",
       "</table>\n",
       "<p>48712 rows × 838 columns</p>\n",
       "</div>"
      ],
      "text/plain": [
       "      acquisition_type    snapshot_type channel evaluation_dt  vintage  \\\n",
       "0              ORGANIC  FLOW_MODULARITY   OTHER    2021-08-04   202108   \n",
       "1              ORGANIC  FLOW_MODULARITY   OTHER    2021-03-01   202103   \n",
       "2              ORGANIC  FLOW_MODULARITY   OTHER    2021-02-26   202102   \n",
       "3              ORGANIC  FLOW_MODULARITY   OTHER    2021-06-04   202106   \n",
       "4              ORGANIC  FLOW_MODULARITY   OTHER    2021-07-14   202107   \n",
       "...                ...              ...     ...           ...      ...   \n",
       "48707          ORGANIC  FLOW_MODULARITY   OTHER    2021-05-01   202105   \n",
       "48708          ORGANIC  FLOW_MODULARITY   OTHER    2020-11-29   202011   \n",
       "48709          ORGANIC  FLOW_MODULARITY   OTHER    2021-04-25   202104   \n",
       "48710          ORGANIC  FLOW_MODULARITY   OTHER    2021-04-10   202104   \n",
       "48711          ORGANIC  FLOW_MODULARITY  CK_ITA    2021-05-13   202105   \n",
       "\n",
       "       is_app_approved  vantage3_score  bad  bad_v2  bad_balance  ...  \\\n",
       "0                    1           698.0  0.0     0.0          0.0  ...   \n",
       "1                    1           731.0  0.0     0.0          0.0  ...   \n",
       "2                    1             NaN  0.0     0.0          0.0  ...   \n",
       "3                    1           715.0  0.0     0.0          0.0  ...   \n",
       "4                    1             NaN  0.0     0.0          0.0  ...   \n",
       "...                ...             ...  ...     ...          ...  ...   \n",
       "48707                1           732.0  0.0     0.0          0.0  ...   \n",
       "48708                1           705.0  0.0     0.0          0.0  ...   \n",
       "48709                1           722.0  0.0     0.0          0.0  ...   \n",
       "48710                1             NaN  0.0     0.0          0.0  ...   \n",
       "48711                1           634.0  0.0     0.0          0.0  ...   \n",
       "\n",
       "       rtr5930  rtr7110  rtr7140 rtr7160  rtr7216  rtr7620  rtr8120  rtr8220  \\\n",
       "0          2.0      4.0      4.0     9.0      5.0    100.0      5.0      5.0   \n",
       "1         30.0      2.0      2.0   130.0     12.0    100.0      4.0      4.0   \n",
       "2          NaN      NaN      NaN     NaN      NaN      NaN      NaN      NaN   \n",
       "3        249.0     18.0     18.0    56.0      7.0    100.0      5.0    151.0   \n",
       "4          NaN      NaN      NaN     NaN      NaN      NaN      NaN      NaN   \n",
       "...        ...      ...      ...     ...      ...      ...      ...      ...   \n",
       "48707      NaN      NaN      NaN     NaN      0.0      NaN      NaN      NaN   \n",
       "48708      NaN      NaN      NaN     NaN      0.0      NaN      NaN      NaN   \n",
       "48709      0.0      0.0      0.0     NaN      0.0      NaN      2.0    167.0   \n",
       "48710      NaN      NaN      NaN     NaN      NaN      NaN      NaN      NaN   \n",
       "48711     60.0     28.0     28.0    15.0     59.0     67.0     12.0     21.0   \n",
       "\n",
       "       rtr8320  rowNumber  \n",
       "0          5.0      59486  \n",
       "1          4.0       2357  \n",
       "2          NaN      90398  \n",
       "3         45.0     104654  \n",
       "4          NaN      89292  \n",
       "...        ...        ...  \n",
       "48707      NaN     131881  \n",
       "48708      NaN      47197  \n",
       "48709     86.0      29739  \n",
       "48710      NaN      89207  \n",
       "48711     17.0      50643  \n",
       "\n",
       "[48712 rows x 838 columns]"
      ]
     },
     "execution_count": 8,
     "metadata": {},
     "output_type": "execute_result"
    }
   ],
   "source": [
    "forStudents"
   ]
  },
  {
   "cell_type": "code",
   "execution_count": 9,
   "id": "1b3d6d98",
   "metadata": {
    "colab": {
     "base_uri": "https://localhost:8080/",
     "height": 488
    },
    "id": "1b3d6d98",
    "outputId": "15cc3943-2d24-4c1a-c3bb-02de494c8dcc",
    "scrolled": false
   },
   "outputs": [
    {
     "data": {
      "text/html": [
       "<div>\n",
       "<style scoped>\n",
       "    .dataframe tbody tr th:only-of-type {\n",
       "        vertical-align: middle;\n",
       "    }\n",
       "\n",
       "    .dataframe tbody tr th {\n",
       "        vertical-align: top;\n",
       "    }\n",
       "\n",
       "    .dataframe thead th {\n",
       "        text-align: right;\n",
       "    }\n",
       "</style>\n",
       "<table border=\"1\" class=\"dataframe\">\n",
       "  <thead>\n",
       "    <tr style=\"text-align: right;\">\n",
       "      <th></th>\n",
       "      <th>vantage3_score</th>\n",
       "      <th>bad</th>\n",
       "      <th>annual_income</th>\n",
       "      <th>acquisition_type_ORGANIC</th>\n",
       "      <th>acquisition_type_PRESCREENED</th>\n",
       "      <th>snapshot_type_CREDIT_KARMA_LIGHTBOX</th>\n",
       "      <th>snapshot_type_DIRECT_MAIL</th>\n",
       "      <th>snapshot_type_FLOW_MODULARITY</th>\n",
       "      <th>channel_CK_ITA</th>\n",
       "      <th>channel_CK_LB</th>\n",
       "      <th>channel_DM</th>\n",
       "      <th>channel_OTHER</th>\n",
       "    </tr>\n",
       "  </thead>\n",
       "  <tbody>\n",
       "    <tr>\n",
       "      <th>0</th>\n",
       "      <td>698.00000</td>\n",
       "      <td>0.0</td>\n",
       "      <td>15171</td>\n",
       "      <td>1</td>\n",
       "      <td>0</td>\n",
       "      <td>0</td>\n",
       "      <td>0</td>\n",
       "      <td>1</td>\n",
       "      <td>0</td>\n",
       "      <td>0</td>\n",
       "      <td>0</td>\n",
       "      <td>1</td>\n",
       "    </tr>\n",
       "    <tr>\n",
       "      <th>1</th>\n",
       "      <td>731.00000</td>\n",
       "      <td>0.0</td>\n",
       "      <td>20000</td>\n",
       "      <td>1</td>\n",
       "      <td>0</td>\n",
       "      <td>0</td>\n",
       "      <td>0</td>\n",
       "      <td>1</td>\n",
       "      <td>0</td>\n",
       "      <td>0</td>\n",
       "      <td>0</td>\n",
       "      <td>1</td>\n",
       "    </tr>\n",
       "    <tr>\n",
       "      <th>2</th>\n",
       "      <td>662.03222</td>\n",
       "      <td>0.0</td>\n",
       "      <td>25000</td>\n",
       "      <td>1</td>\n",
       "      <td>0</td>\n",
       "      <td>0</td>\n",
       "      <td>0</td>\n",
       "      <td>1</td>\n",
       "      <td>0</td>\n",
       "      <td>0</td>\n",
       "      <td>0</td>\n",
       "      <td>1</td>\n",
       "    </tr>\n",
       "    <tr>\n",
       "      <th>3</th>\n",
       "      <td>715.00000</td>\n",
       "      <td>0.0</td>\n",
       "      <td>114779</td>\n",
       "      <td>1</td>\n",
       "      <td>0</td>\n",
       "      <td>0</td>\n",
       "      <td>0</td>\n",
       "      <td>1</td>\n",
       "      <td>0</td>\n",
       "      <td>0</td>\n",
       "      <td>0</td>\n",
       "      <td>1</td>\n",
       "    </tr>\n",
       "    <tr>\n",
       "      <th>4</th>\n",
       "      <td>662.03222</td>\n",
       "      <td>0.0</td>\n",
       "      <td>52500</td>\n",
       "      <td>1</td>\n",
       "      <td>0</td>\n",
       "      <td>0</td>\n",
       "      <td>0</td>\n",
       "      <td>1</td>\n",
       "      <td>0</td>\n",
       "      <td>0</td>\n",
       "      <td>0</td>\n",
       "      <td>1</td>\n",
       "    </tr>\n",
       "    <tr>\n",
       "      <th>...</th>\n",
       "      <td>...</td>\n",
       "      <td>...</td>\n",
       "      <td>...</td>\n",
       "      <td>...</td>\n",
       "      <td>...</td>\n",
       "      <td>...</td>\n",
       "      <td>...</td>\n",
       "      <td>...</td>\n",
       "      <td>...</td>\n",
       "      <td>...</td>\n",
       "      <td>...</td>\n",
       "      <td>...</td>\n",
       "    </tr>\n",
       "    <tr>\n",
       "      <th>48707</th>\n",
       "      <td>732.00000</td>\n",
       "      <td>0.0</td>\n",
       "      <td>25000</td>\n",
       "      <td>1</td>\n",
       "      <td>0</td>\n",
       "      <td>0</td>\n",
       "      <td>0</td>\n",
       "      <td>1</td>\n",
       "      <td>0</td>\n",
       "      <td>0</td>\n",
       "      <td>0</td>\n",
       "      <td>1</td>\n",
       "    </tr>\n",
       "    <tr>\n",
       "      <th>48708</th>\n",
       "      <td>705.00000</td>\n",
       "      <td>0.0</td>\n",
       "      <td>60897</td>\n",
       "      <td>1</td>\n",
       "      <td>0</td>\n",
       "      <td>0</td>\n",
       "      <td>0</td>\n",
       "      <td>1</td>\n",
       "      <td>0</td>\n",
       "      <td>0</td>\n",
       "      <td>0</td>\n",
       "      <td>1</td>\n",
       "    </tr>\n",
       "    <tr>\n",
       "      <th>48709</th>\n",
       "      <td>722.00000</td>\n",
       "      <td>0.0</td>\n",
       "      <td>55000</td>\n",
       "      <td>1</td>\n",
       "      <td>0</td>\n",
       "      <td>0</td>\n",
       "      <td>0</td>\n",
       "      <td>1</td>\n",
       "      <td>0</td>\n",
       "      <td>0</td>\n",
       "      <td>0</td>\n",
       "      <td>1</td>\n",
       "    </tr>\n",
       "    <tr>\n",
       "      <th>48710</th>\n",
       "      <td>662.03222</td>\n",
       "      <td>0.0</td>\n",
       "      <td>18000</td>\n",
       "      <td>1</td>\n",
       "      <td>0</td>\n",
       "      <td>0</td>\n",
       "      <td>0</td>\n",
       "      <td>1</td>\n",
       "      <td>0</td>\n",
       "      <td>0</td>\n",
       "      <td>0</td>\n",
       "      <td>1</td>\n",
       "    </tr>\n",
       "    <tr>\n",
       "      <th>48711</th>\n",
       "      <td>634.00000</td>\n",
       "      <td>0.0</td>\n",
       "      <td>35000</td>\n",
       "      <td>1</td>\n",
       "      <td>0</td>\n",
       "      <td>0</td>\n",
       "      <td>0</td>\n",
       "      <td>1</td>\n",
       "      <td>1</td>\n",
       "      <td>0</td>\n",
       "      <td>0</td>\n",
       "      <td>0</td>\n",
       "    </tr>\n",
       "  </tbody>\n",
       "</table>\n",
       "<p>47882 rows × 12 columns</p>\n",
       "</div>"
      ],
      "text/plain": [
       "       vantage3_score  bad  annual_income  acquisition_type_ORGANIC  \\\n",
       "0           698.00000  0.0          15171                         1   \n",
       "1           731.00000  0.0          20000                         1   \n",
       "2           662.03222  0.0          25000                         1   \n",
       "3           715.00000  0.0         114779                         1   \n",
       "4           662.03222  0.0          52500                         1   \n",
       "...               ...  ...            ...                       ...   \n",
       "48707       732.00000  0.0          25000                         1   \n",
       "48708       705.00000  0.0          60897                         1   \n",
       "48709       722.00000  0.0          55000                         1   \n",
       "48710       662.03222  0.0          18000                         1   \n",
       "48711       634.00000  0.0          35000                         1   \n",
       "\n",
       "       acquisition_type_PRESCREENED  snapshot_type_CREDIT_KARMA_LIGHTBOX  \\\n",
       "0                                 0                                    0   \n",
       "1                                 0                                    0   \n",
       "2                                 0                                    0   \n",
       "3                                 0                                    0   \n",
       "4                                 0                                    0   \n",
       "...                             ...                                  ...   \n",
       "48707                             0                                    0   \n",
       "48708                             0                                    0   \n",
       "48709                             0                                    0   \n",
       "48710                             0                                    0   \n",
       "48711                             0                                    0   \n",
       "\n",
       "       snapshot_type_DIRECT_MAIL  snapshot_type_FLOW_MODULARITY  \\\n",
       "0                              0                              1   \n",
       "1                              0                              1   \n",
       "2                              0                              1   \n",
       "3                              0                              1   \n",
       "4                              0                              1   \n",
       "...                          ...                            ...   \n",
       "48707                          0                              1   \n",
       "48708                          0                              1   \n",
       "48709                          0                              1   \n",
       "48710                          0                              1   \n",
       "48711                          0                              1   \n",
       "\n",
       "       channel_CK_ITA  channel_CK_LB  channel_DM  channel_OTHER  \n",
       "0                   0              0           0              1  \n",
       "1                   0              0           0              1  \n",
       "2                   0              0           0              1  \n",
       "3                   0              0           0              1  \n",
       "4                   0              0           0              1  \n",
       "...               ...            ...         ...            ...  \n",
       "48707               0              0           0              1  \n",
       "48708               0              0           0              1  \n",
       "48709               0              0           0              1  \n",
       "48710               0              0           0              1  \n",
       "48711               1              0           0              0  \n",
       "\n",
       "[47882 rows x 12 columns]"
      ]
     },
     "execution_count": 9,
     "metadata": {},
     "output_type": "execute_result"
    }
   ],
   "source": [
    "processed_data = forStudents.copy()\n",
    "processed_data['bad'].fillna(processed_data['bad'].median(), inplace=True)\n",
    "processed_data['vantage3_score'].fillna(processed_data['vantage3_score'].mean(), inplace=True)\n",
    "processed_data = processed_data[processed_data['bad'] != -1.0]\n",
    "relevant_input_cols = ['acquisition_type', 'snapshot_type', 'channel', 'vantage3_score', 'bad', 'annual_income']\n",
    "\n",
    "categorical = ['acquisition_type', 'snapshot_type', 'channel']\n",
    "processed_data = processed_data[relevant_input_cols]\n",
    "one_hot = pd.get_dummies(processed_data[categorical])\n",
    "processed_data = processed_data.drop(categorical,axis = 1)\n",
    "processed_data = processed_data.join(one_hot)\n",
    "processed_data"
   ]
  },
  {
   "cell_type": "markdown",
   "id": "7fcikMARi793",
   "metadata": {
    "id": "7fcikMARi793"
   },
   "source": [
    "# **Predicting Bad Value:**"
   ]
  },
  {
   "cell_type": "code",
   "execution_count": 10,
   "id": "9dd899a9",
   "metadata": {
    "id": "9dd899a9"
   },
   "outputs": [],
   "source": [
    "X = processed_data.loc[:, ~processed_data.columns.isin(['bad'])]\n",
    "y = processed_data['bad']"
   ]
  },
  {
   "cell_type": "code",
   "execution_count": 11,
   "id": "9ef64136",
   "metadata": {
    "id": "9ef64136",
    "scrolled": true
   },
   "outputs": [],
   "source": [
    "from sklearn.model_selection import train_test_split\n",
    "X_train, X_test, y_train, y_test = train_test_split(X, y, test_size=0.2, random_state = 42)"
   ]
  },
  {
   "cell_type": "code",
   "execution_count": 12,
   "id": "XD9ZCOir5O4f",
   "metadata": {
    "id": "XD9ZCOir5O4f"
   },
   "outputs": [],
   "source": [
    "from sklearn.linear_model import LogisticRegression\n",
    "from sklearn import metrics\n",
    "import numpy as np\n",
    "lmodel = LogisticRegression(random_state=42)"
   ]
  },
  {
   "cell_type": "code",
   "execution_count": 13,
   "id": "yA0GfEd4gz5o",
   "metadata": {
    "colab": {
     "base_uri": "https://localhost:8080/"
    },
    "id": "yA0GfEd4gz5o",
    "outputId": "1af8173e-3d98-4324-803c-d74b14d99635"
   },
   "outputs": [
    {
     "data": {
      "text/plain": [
       "((38305, 11), (38305,))"
      ]
     },
     "execution_count": 13,
     "metadata": {},
     "output_type": "execute_result"
    }
   ],
   "source": [
    "X_train.shape, y_train.shape"
   ]
  },
  {
   "cell_type": "code",
   "execution_count": 14,
   "id": "uUyCRHtM500V",
   "metadata": {
    "colab": {
     "base_uri": "https://localhost:8080/"
    },
    "id": "uUyCRHtM500V",
    "outputId": "c5a1b183-3076-464c-ec4c-6a83754c443f"
   },
   "outputs": [
    {
     "data": {
      "text/plain": [
       "LogisticRegression(random_state=42)"
      ]
     },
     "execution_count": 14,
     "metadata": {},
     "output_type": "execute_result"
    }
   ],
   "source": [
    "lmodel.fit(X_train,y_train)"
   ]
  },
  {
   "cell_type": "code",
   "execution_count": 15,
   "id": "mAEopg2M586S",
   "metadata": {
    "id": "mAEopg2M586S"
   },
   "outputs": [],
   "source": [
    "y_pred= lmodel.predict_proba(X_test)[::,1]"
   ]
  },
  {
   "cell_type": "code",
   "execution_count": 16,
   "id": "fz0U5gggz-hk",
   "metadata": {
    "id": "fz0U5gggz-hk"
   },
   "outputs": [],
   "source": [
    "auc = metrics.roc_auc_score(y_test, y_pred)"
   ]
  },
  {
   "cell_type": "code",
   "execution_count": 17,
   "id": "NaHIjkVlEIat",
   "metadata": {
    "colab": {
     "base_uri": "https://localhost:8080/"
    },
    "id": "NaHIjkVlEIat",
    "outputId": "90adb74b-59db-4eb0-e675-7e9e7f4cb0b6"
   },
   "outputs": [
    {
     "data": {
      "text/plain": [
       "0.6084301796435543"
      ]
     },
     "execution_count": 17,
     "metadata": {},
     "output_type": "execute_result"
    }
   ],
   "source": [
    "auc"
   ]
  },
  {
   "cell_type": "code",
   "execution_count": 18,
   "id": "O2tBgrrJvflE",
   "metadata": {
    "id": "O2tBgrrJvflE"
   },
   "outputs": [],
   "source": [
    "fpr,tpr,threshholds = metrics.roc_curve(np.array(y_test),y_pred)"
   ]
  },
  {
   "cell_type": "code",
   "execution_count": 19,
   "id": "v8eO8sX6w-td",
   "metadata": {
    "colab": {
     "base_uri": "https://localhost:8080/",
     "height": 279
    },
    "id": "v8eO8sX6w-td",
    "outputId": "46dbb69b-fc22-4da7-9337-bde28a38f3c9"
   },
   "outputs": [
    {
     "data": {
      "image/png": "[encoded data removed]",
      "text/plain": [
       "<Figure size 432x288 with 1 Axes>"
      ]
     },
     "metadata": {
      "needs_background": "light"
     },
     "output_type": "display_data"
    }
   ],
   "source": [
    "plt.plot(fpr,tpr,label='AUC='+str(auc)) #Roc CURVE\n",
    "plt.ylabel('True Positive Rate')\n",
    "plt.xlabel('False Positive Rate')\n",
    "plt.legend()\n",
    "plt.show()"
   ]
  },
  {
   "cell_type": "code",
   "execution_count": 20,
   "id": "x05ofUYSxBxA",
   "metadata": {
    "colab": {
     "base_uri": "https://localhost:8080/"
    },
    "id": "x05ofUYSxBxA",
    "outputId": "7aa2c69d-2150-41a8-b4f3-e2ad4c13f75e"
   },
   "outputs": [
    {
     "data": {
      "text/plain": [
       "0.07332561750710666"
      ]
     },
     "execution_count": 20,
     "metadata": {},
     "output_type": "execute_result"
    }
   ],
   "source": [
    "#MSE fav calc\n",
    "sse = sum([x**2 for x in  y_test-y_pred])\n",
    "sse/len(y_test)"
   ]
  },
  {
   "cell_type": "code",
   "execution_count": 21,
   "id": "5Z-k3expx5bR",
   "metadata": {
    "colab": {
     "base_uri": "https://localhost:8080/"
    },
    "id": "5Z-k3expx5bR",
    "outputId": "cf1abee2-3f7c-4668-84e9-ec4c9742c148"
   },
   "outputs": [
    {
     "data": {
      "text/plain": [
       "(array([0.08008771]), array([0.07927888]))"
      ]
     },
     "execution_count": 21,
     "metadata": {},
     "output_type": "execute_result"
    }
   ],
   "source": [
    "from sklearn.calibration import calibration_curve\n",
    "calibration_curve(y_test, y_pred, n_bins=3)"
   ]
  },
  {
   "cell_type": "markdown",
   "id": "gU6fAaq4jKRB",
   "metadata": {
    "id": "gU6fAaq4jKRB"
   },
   "source": [
    "# **Predicting Loss Prevented:** \n",
    "(bad_balance)"
   ]
  },
  {
   "cell_type": "code",
   "execution_count": 22,
   "id": "5N5lAWDH8aN8",
   "metadata": {
    "id": "5N5lAWDH8aN8"
   },
   "outputs": [],
   "source": [
    "# processing data with bad_balance column\n",
    "processed_data = forStudents.copy()\n",
    "processed_data['bad'].fillna(processed_data['bad'].median(), inplace=True)\n",
    "processed_data['bad_balance'].fillna(processed_data[processed_data['bad']==1]['bad_balance'].mean(), inplace=True)\n",
    "processed_data['vantage3_score'].fillna(processed_data['vantage3_score'].mean(), inplace=True)\n",
    "processed_data = processed_data[processed_data['bad'] != -1.0]\n",
    "relevant_input_cols = ['bad_balance','acquisition_type', 'snapshot_type', 'channel', 'vantage3_score', 'bad', 'annual_income']\n",
    "\n",
    "categorical = ['acquisition_type', 'snapshot_type', 'channel']\n",
    "processed_data = processed_data[relevant_input_cols]\n",
    "one_hot = pd.get_dummies(processed_data[categorical])\n",
    "processed_data = processed_data.drop(categorical,axis = 1)\n",
    "processed_data = processed_data.join(one_hot)\n",
    "#processed_data"
   ]
  },
  {
   "cell_type": "code",
   "execution_count": 23,
   "id": "ZIgqgdzFj6Ik",
   "metadata": {
    "id": "ZIgqgdzFj6Ik"
   },
   "outputs": [],
   "source": [
    "X_loss = processed_data.loc[:, ~processed_data.columns.isin(['bad_balance'])]\n",
    "y_loss = processed_data['bad_balance']"
   ]
  },
  {
   "cell_type": "code",
   "execution_count": 24,
   "id": "-b_myH7xlDbS",
   "metadata": {
    "id": "-b_myH7xlDbS"
   },
   "outputs": [],
   "source": [
    "from sklearn.model_selection import train_test_split\n",
    "X_train_loss, X_test_loss, y_train_loss, y_test_loss = train_test_split(X_loss, y_loss, test_size=0.2, random_state = 42)"
   ]
  },
  {
   "cell_type": "code",
   "execution_count": 25,
   "id": "jG5Zid2mlK5F",
   "metadata": {
    "id": "jG5Zid2mlK5F"
   },
   "outputs": [],
   "source": [
    "from sklearn.linear_model import LinearRegression\n",
    "from sklearn import metrics\n",
    "import numpy as np\n",
    "loss_model = LinearRegression()"
   ]
  },
  {
   "cell_type": "code",
   "execution_count": 26,
   "id": "KprRt2d8lbWL",
   "metadata": {
    "colab": {
     "base_uri": "https://localhost:8080/"
    },
    "id": "KprRt2d8lbWL",
    "outputId": "2874f961-2f51-4850-e5d3-9f86a6e036d8"
   },
   "outputs": [
    {
     "data": {
      "text/plain": [
       "LinearRegression()"
      ]
     },
     "execution_count": 26,
     "metadata": {},
     "output_type": "execute_result"
    }
   ],
   "source": [
    "loss_model.fit(X_train_loss,y_train_loss)"
   ]
  },
  {
   "cell_type": "code",
   "execution_count": 27,
   "id": "rsbcQEKdlkR2",
   "metadata": {
    "colab": {
     "base_uri": "https://localhost:8080/"
    },
    "id": "rsbcQEKdlkR2",
    "outputId": "2df6e44d-0eca-4e80-a9ac-dc3e9400187e"
   },
   "outputs": [
    {
     "name": "stdout",
     "output_type": "stream",
     "text": [
      "Sum of loss Prevented: 1196248.102853034\n"
     ]
    }
   ],
   "source": [
    "y_pred_loss= loss_model.predict(X_test_loss)\n",
    "print('Sum of loss Prevented:', y_pred_loss.sum())"
   ]
  },
  {
   "cell_type": "code",
   "execution_count": 28,
   "id": "D9G2CJ_aly2F",
   "metadata": {
    "colab": {
     "base_uri": "https://localhost:8080/"
    },
    "id": "D9G2CJ_aly2F",
    "outputId": "151d0387-b4a1-44eb-c883-ab33ee9494b5"
   },
   "outputs": [
    {
     "data": {
      "text/plain": [
       "69872.93831974492"
      ]
     },
     "execution_count": 28,
     "metadata": {},
     "output_type": "execute_result"
    }
   ],
   "source": [
    "#MSE fav calc\n",
    "sse = sum([x**2 for x in  y_test_loss-y_pred_loss])\n",
    "sse/len(y_test_loss)"
   ]
  },
  {
   "cell_type": "markdown",
   "id": "J9kDGYlmwgk6",
   "metadata": {
    "id": "J9kDGYlmwgk6"
   },
   "source": [
    "Make new features, see performance improvement, apply 2 feature selection techniques, see\n",
    "performance drop when reducing to 10 features"
   ]
  },
  {
   "cell_type": "markdown",
   "id": "KlKxvbSXwnWu",
   "metadata": {
    "id": "KlKxvbSXwnWu"
   },
   "source": [
    "## **Adding new features**"
   ]
  },
  {
   "cell_type": "code",
   "execution_count": 29,
   "id": "_ajxvaP8wuUO",
   "metadata": {
    "colab": {
     "base_uri": "https://localhost:8080/"
    },
    "id": "_ajxvaP8wuUO",
    "outputId": "85b78b2b-130f-4b3b-ee56-ac3703bc1a6c"
   },
   "outputs": [
    {
     "data": {
      "text/plain": [
       "23422    500005122\n",
       "36038    400000440\n",
       "19825    150000024\n",
       "13944    100000579\n",
       "20170     93600959\n",
       "           ...    \n",
       "19791           35\n",
       "27321            1\n",
       "14522            0\n",
       "1632             0\n",
       "4707             0\n",
       "Name: annual_income, Length: 47882, dtype: int64"
      ]
     },
     "execution_count": 29,
     "metadata": {},
     "output_type": "execute_result"
    }
   ],
   "source": [
    "processed_data['annual_income'].sort_values(ascending=False)\n"
   ]
  },
  {
   "cell_type": "code",
   "execution_count": 30,
   "id": "k6q8HIvVwu29",
   "metadata": {
    "colab": {
     "base_uri": "https://localhost:8080/",
     "height": 293
    },
    "id": "k6q8HIvVwu29",
    "outputId": "a6b0da11-1602-4c26-9dda-10484f0d955a"
   },
   "outputs": [
    {
     "data": {
      "text/plain": [
       "<AxesSubplot:>"
      ]
     },
     "execution_count": 30,
     "metadata": {},
     "output_type": "execute_result"
    },
    {
     "data": {
      "image/png": "[encoded data removed]",
      "text/plain": [
       "<Figure size 432x288 with 1 Axes>"
      ]
     },
     "metadata": {
      "needs_background": "light"
     },
     "output_type": "display_data"
    }
   ],
   "source": [
    "processed_data['annual_income'].plot()"
   ]
  },
  {
   "cell_type": "code",
   "execution_count": 31,
   "id": "8-xFBe3p4ISj",
   "metadata": {
    "id": "8-xFBe3p4ISj"
   },
   "outputs": [],
   "source": [
    "def get_income_bracket(annual_income):\n",
    "\n",
    " if annual_income <= 10000:\n",
    "     return '0-10k'\n",
    "\n",
    " elif (annual_income > 10000) & (annual_income <= 30000):\n",
    "     return '11k-30k'\n",
    "\n",
    " elif (annual_income > 30000) & (annual_income <= 60000):\n",
    "     return '31k-60k'\n",
    "\n",
    " elif (annual_income > 60000) & (annual_income <= 100000):\n",
    "     return '61k-100k'\n",
    "\n",
    " elif (annual_income > 100000) & (annual_income <= 200000):\n",
    "     return '101k-200k'\n",
    "\n",
    " elif (annual_income > 200000) & (annual_income <= 300000):\n",
    "     return '201k-300k'\n",
    "\n",
    " elif (annual_income > 300000) & (annual_income <= 1000000):\n",
    "     return '301k-1M'\n",
    "\n",
    " else:\n",
    "     return '1.1M+'"
   ]
  },
  {
   "cell_type": "code",
   "execution_count": 32,
   "id": "e77wEKVF4KiV",
   "metadata": {
    "colab": {
     "base_uri": "https://localhost:8080/",
     "height": 505
    },
    "id": "e77wEKVF4KiV",
    "outputId": "0696c056-6f4c-4cc2-8464-ca253cb7b17b"
   },
   "outputs": [
    {
     "data": {
      "text/html": [
       "<div>\n",
       "<style scoped>\n",
       "    .dataframe tbody tr th:only-of-type {\n",
       "        vertical-align: middle;\n",
       "    }\n",
       "\n",
       "    .dataframe tbody tr th {\n",
       "        vertical-align: top;\n",
       "    }\n",
       "\n",
       "    .dataframe thead th {\n",
       "        text-align: right;\n",
       "    }\n",
       "</style>\n",
       "<table border=\"1\" class=\"dataframe\">\n",
       "  <thead>\n",
       "    <tr style=\"text-align: right;\">\n",
       "      <th></th>\n",
       "      <th>bad_balance</th>\n",
       "      <th>vantage3_score</th>\n",
       "      <th>bad</th>\n",
       "      <th>annual_income</th>\n",
       "      <th>acquisition_type_ORGANIC</th>\n",
       "      <th>acquisition_type_PRESCREENED</th>\n",
       "      <th>snapshot_type_CREDIT_KARMA_LIGHTBOX</th>\n",
       "      <th>snapshot_type_DIRECT_MAIL</th>\n",
       "      <th>snapshot_type_FLOW_MODULARITY</th>\n",
       "      <th>channel_CK_ITA</th>\n",
       "      <th>...</th>\n",
       "      <th>channel_DM</th>\n",
       "      <th>channel_OTHER</th>\n",
       "      <th>0-10k</th>\n",
       "      <th>1.1M+</th>\n",
       "      <th>101k-200k</th>\n",
       "      <th>11k-30k</th>\n",
       "      <th>201k-300k</th>\n",
       "      <th>301k-1M</th>\n",
       "      <th>31k-60k</th>\n",
       "      <th>61k-100k</th>\n",
       "    </tr>\n",
       "  </thead>\n",
       "  <tbody>\n",
       "    <tr>\n",
       "      <th>0</th>\n",
       "      <td>0.0</td>\n",
       "      <td>698.00000</td>\n",
       "      <td>0.0</td>\n",
       "      <td>15171</td>\n",
       "      <td>1</td>\n",
       "      <td>0</td>\n",
       "      <td>0</td>\n",
       "      <td>0</td>\n",
       "      <td>1</td>\n",
       "      <td>0</td>\n",
       "      <td>...</td>\n",
       "      <td>0</td>\n",
       "      <td>1</td>\n",
       "      <td>0</td>\n",
       "      <td>0</td>\n",
       "      <td>0</td>\n",
       "      <td>1</td>\n",
       "      <td>0</td>\n",
       "      <td>0</td>\n",
       "      <td>0</td>\n",
       "      <td>0</td>\n",
       "    </tr>\n",
       "    <tr>\n",
       "      <th>1</th>\n",
       "      <td>0.0</td>\n",
       "      <td>731.00000</td>\n",
       "      <td>0.0</td>\n",
       "      <td>20000</td>\n",
       "      <td>1</td>\n",
       "      <td>0</td>\n",
       "      <td>0</td>\n",
       "      <td>0</td>\n",
       "      <td>1</td>\n",
       "      <td>0</td>\n",
       "      <td>...</td>\n",
       "      <td>0</td>\n",
       "      <td>1</td>\n",
       "      <td>0</td>\n",
       "      <td>0</td>\n",
       "      <td>0</td>\n",
       "      <td>1</td>\n",
       "      <td>0</td>\n",
       "      <td>0</td>\n",
       "      <td>0</td>\n",
       "      <td>0</td>\n",
       "    </tr>\n",
       "    <tr>\n",
       "      <th>2</th>\n",
       "      <td>0.0</td>\n",
       "      <td>662.03222</td>\n",
       "      <td>0.0</td>\n",
       "      <td>25000</td>\n",
       "      <td>1</td>\n",
       "      <td>0</td>\n",
       "      <td>0</td>\n",
       "      <td>0</td>\n",
       "      <td>1</td>\n",
       "      <td>0</td>\n",
       "      <td>...</td>\n",
       "      <td>0</td>\n",
       "      <td>1</td>\n",
       "      <td>0</td>\n",
       "      <td>0</td>\n",
       "      <td>0</td>\n",
       "      <td>1</td>\n",
       "      <td>0</td>\n",
       "      <td>0</td>\n",
       "      <td>0</td>\n",
       "      <td>0</td>\n",
       "    </tr>\n",
       "    <tr>\n",
       "      <th>3</th>\n",
       "      <td>0.0</td>\n",
       "      <td>715.00000</td>\n",
       "      <td>0.0</td>\n",
       "      <td>114779</td>\n",
       "      <td>1</td>\n",
       "      <td>0</td>\n",
       "      <td>0</td>\n",
       "      <td>0</td>\n",
       "      <td>1</td>\n",
       "      <td>0</td>\n",
       "      <td>...</td>\n",
       "      <td>0</td>\n",
       "      <td>1</td>\n",
       "      <td>0</td>\n",
       "      <td>0</td>\n",
       "      <td>1</td>\n",
       "      <td>0</td>\n",
       "      <td>0</td>\n",
       "      <td>0</td>\n",
       "      <td>0</td>\n",
       "      <td>0</td>\n",
       "    </tr>\n",
       "    <tr>\n",
       "      <th>4</th>\n",
       "      <td>0.0</td>\n",
       "      <td>662.03222</td>\n",
       "      <td>0.0</td>\n",
       "      <td>52500</td>\n",
       "      <td>1</td>\n",
       "      <td>0</td>\n",
       "      <td>0</td>\n",
       "      <td>0</td>\n",
       "      <td>1</td>\n",
       "      <td>0</td>\n",
       "      <td>...</td>\n",
       "      <td>0</td>\n",
       "      <td>1</td>\n",
       "      <td>0</td>\n",
       "      <td>0</td>\n",
       "      <td>0</td>\n",
       "      <td>0</td>\n",
       "      <td>0</td>\n",
       "      <td>0</td>\n",
       "      <td>1</td>\n",
       "      <td>0</td>\n",
       "    </tr>\n",
       "    <tr>\n",
       "      <th>...</th>\n",
       "      <td>...</td>\n",
       "      <td>...</td>\n",
       "      <td>...</td>\n",
       "      <td>...</td>\n",
       "      <td>...</td>\n",
       "      <td>...</td>\n",
       "      <td>...</td>\n",
       "      <td>...</td>\n",
       "      <td>...</td>\n",
       "      <td>...</td>\n",
       "      <td>...</td>\n",
       "      <td>...</td>\n",
       "      <td>...</td>\n",
       "      <td>...</td>\n",
       "      <td>...</td>\n",
       "      <td>...</td>\n",
       "      <td>...</td>\n",
       "      <td>...</td>\n",
       "      <td>...</td>\n",
       "      <td>...</td>\n",
       "      <td>...</td>\n",
       "    </tr>\n",
       "    <tr>\n",
       "      <th>48707</th>\n",
       "      <td>0.0</td>\n",
       "      <td>732.00000</td>\n",
       "      <td>0.0</td>\n",
       "      <td>25000</td>\n",
       "      <td>1</td>\n",
       "      <td>0</td>\n",
       "      <td>0</td>\n",
       "      <td>0</td>\n",
       "      <td>1</td>\n",
       "      <td>0</td>\n",
       "      <td>...</td>\n",
       "      <td>0</td>\n",
       "      <td>1</td>\n",
       "      <td>0</td>\n",
       "      <td>0</td>\n",
       "      <td>0</td>\n",
       "      <td>1</td>\n",
       "      <td>0</td>\n",
       "      <td>0</td>\n",
       "      <td>0</td>\n",
       "      <td>0</td>\n",
       "    </tr>\n",
       "    <tr>\n",
       "      <th>48708</th>\n",
       "      <td>0.0</td>\n",
       "      <td>705.00000</td>\n",
       "      <td>0.0</td>\n",
       "      <td>60897</td>\n",
       "      <td>1</td>\n",
       "      <td>0</td>\n",
       "      <td>0</td>\n",
       "      <td>0</td>\n",
       "      <td>1</td>\n",
       "      <td>0</td>\n",
       "      <td>...</td>\n",
       "      <td>0</td>\n",
       "      <td>1</td>\n",
       "      <td>0</td>\n",
       "      <td>0</td>\n",
       "      <td>0</td>\n",
       "      <td>0</td>\n",
       "      <td>0</td>\n",
       "      <td>0</td>\n",
       "      <td>0</td>\n",
       "      <td>1</td>\n",
       "    </tr>\n",
       "    <tr>\n",
       "      <th>48709</th>\n",
       "      <td>0.0</td>\n",
       "      <td>722.00000</td>\n",
       "      <td>0.0</td>\n",
       "      <td>55000</td>\n",
       "      <td>1</td>\n",
       "      <td>0</td>\n",
       "      <td>0</td>\n",
       "      <td>0</td>\n",
       "      <td>1</td>\n",
       "      <td>0</td>\n",
       "      <td>...</td>\n",
       "      <td>0</td>\n",
       "      <td>1</td>\n",
       "      <td>0</td>\n",
       "      <td>0</td>\n",
       "      <td>0</td>\n",
       "      <td>0</td>\n",
       "      <td>0</td>\n",
       "      <td>0</td>\n",
       "      <td>1</td>\n",
       "      <td>0</td>\n",
       "    </tr>\n",
       "    <tr>\n",
       "      <th>48710</th>\n",
       "      <td>0.0</td>\n",
       "      <td>662.03222</td>\n",
       "      <td>0.0</td>\n",
       "      <td>18000</td>\n",
       "      <td>1</td>\n",
       "      <td>0</td>\n",
       "      <td>0</td>\n",
       "      <td>0</td>\n",
       "      <td>1</td>\n",
       "      <td>0</td>\n",
       "      <td>...</td>\n",
       "      <td>0</td>\n",
       "      <td>1</td>\n",
       "      <td>0</td>\n",
       "      <td>0</td>\n",
       "      <td>0</td>\n",
       "      <td>1</td>\n",
       "      <td>0</td>\n",
       "      <td>0</td>\n",
       "      <td>0</td>\n",
       "      <td>0</td>\n",
       "    </tr>\n",
       "    <tr>\n",
       "      <th>48711</th>\n",
       "      <td>0.0</td>\n",
       "      <td>634.00000</td>\n",
       "      <td>0.0</td>\n",
       "      <td>35000</td>\n",
       "      <td>1</td>\n",
       "      <td>0</td>\n",
       "      <td>0</td>\n",
       "      <td>0</td>\n",
       "      <td>1</td>\n",
       "      <td>1</td>\n",
       "      <td>...</td>\n",
       "      <td>0</td>\n",
       "      <td>0</td>\n",
       "      <td>0</td>\n",
       "      <td>0</td>\n",
       "      <td>0</td>\n",
       "      <td>0</td>\n",
       "      <td>0</td>\n",
       "      <td>0</td>\n",
       "      <td>1</td>\n",
       "      <td>0</td>\n",
       "    </tr>\n",
       "  </tbody>\n",
       "</table>\n",
       "<p>47882 rows × 21 columns</p>\n",
       "</div>"
      ],
      "text/plain": [
       "       bad_balance  vantage3_score  bad  annual_income  \\\n",
       "0              0.0       698.00000  0.0          15171   \n",
       "1              0.0       731.00000  0.0          20000   \n",
       "2              0.0       662.03222  0.0          25000   \n",
       "3              0.0       715.00000  0.0         114779   \n",
       "4              0.0       662.03222  0.0          52500   \n",
       "...            ...             ...  ...            ...   \n",
       "48707          0.0       732.00000  0.0          25000   \n",
       "48708          0.0       705.00000  0.0          60897   \n",
       "48709          0.0       722.00000  0.0          55000   \n",
       "48710          0.0       662.03222  0.0          18000   \n",
       "48711          0.0       634.00000  0.0          35000   \n",
       "\n",
       "       acquisition_type_ORGANIC  acquisition_type_PRESCREENED  \\\n",
       "0                             1                             0   \n",
       "1                             1                             0   \n",
       "2                             1                             0   \n",
       "3                             1                             0   \n",
       "4                             1                             0   \n",
       "...                         ...                           ...   \n",
       "48707                         1                             0   \n",
       "48708                         1                             0   \n",
       "48709                         1                             0   \n",
       "48710                         1                             0   \n",
       "48711                         1                             0   \n",
       "\n",
       "       snapshot_type_CREDIT_KARMA_LIGHTBOX  snapshot_type_DIRECT_MAIL  \\\n",
       "0                                        0                          0   \n",
       "1                                        0                          0   \n",
       "2                                        0                          0   \n",
       "3                                        0                          0   \n",
       "4                                        0                          0   \n",
       "...                                    ...                        ...   \n",
       "48707                                    0                          0   \n",
       "48708                                    0                          0   \n",
       "48709                                    0                          0   \n",
       "48710                                    0                          0   \n",
       "48711                                    0                          0   \n",
       "\n",
       "       snapshot_type_FLOW_MODULARITY  channel_CK_ITA  ...  channel_DM  \\\n",
       "0                                  1               0  ...           0   \n",
       "1                                  1               0  ...           0   \n",
       "2                                  1               0  ...           0   \n",
       "3                                  1               0  ...           0   \n",
       "4                                  1               0  ...           0   \n",
       "...                              ...             ...  ...         ...   \n",
       "48707                              1               0  ...           0   \n",
       "48708                              1               0  ...           0   \n",
       "48709                              1               0  ...           0   \n",
       "48710                              1               0  ...           0   \n",
       "48711                              1               1  ...           0   \n",
       "\n",
       "       channel_OTHER  0-10k  1.1M+  101k-200k  11k-30k  201k-300k  301k-1M  \\\n",
       "0                  1      0      0          0        1          0        0   \n",
       "1                  1      0      0          0        1          0        0   \n",
       "2                  1      0      0          0        1          0        0   \n",
       "3                  1      0      0          1        0          0        0   \n",
       "4                  1      0      0          0        0          0        0   \n",
       "...              ...    ...    ...        ...      ...        ...      ...   \n",
       "48707              1      0      0          0        1          0        0   \n",
       "48708              1      0      0          0        0          0        0   \n",
       "48709              1      0      0          0        0          0        0   \n",
       "48710              1      0      0          0        1          0        0   \n",
       "48711              0      0      0          0        0          0        0   \n",
       "\n",
       "       31k-60k  61k-100k  \n",
       "0            0         0  \n",
       "1            0         0  \n",
       "2            0         0  \n",
       "3            0         0  \n",
       "4            1         0  \n",
       "...        ...       ...  \n",
       "48707        0         0  \n",
       "48708        0         1  \n",
       "48709        1         0  \n",
       "48710        0         0  \n",
       "48711        1         0  \n",
       "\n",
       "[47882 rows x 21 columns]"
      ]
     },
     "execution_count": 32,
     "metadata": {},
     "output_type": "execute_result"
    }
   ],
   "source": [
    "processed_data['income_bracket'] = processed_data['annual_income'].apply(get_income_bracket)\n",
    "one_hot_income = pd.get_dummies(processed_data['income_bracket'])\n",
    "processed_data = processed_data.drop(['income_bracket'],axis = 1)\n",
    "processed_data = processed_data.join(one_hot_income)\n",
    "processed_data\n"
   ]
  },
  {
   "cell_type": "code",
   "execution_count": 33,
   "id": "YHPZaYDh4YIf",
   "metadata": {
    "id": "YHPZaYDh4YIf"
   },
   "outputs": [],
   "source": [
    "X = processed_data.loc[:, ~processed_data.columns.isin(['bad'])]\n",
    "y = processed_data['bad']"
   ]
  },
  {
   "cell_type": "code",
   "execution_count": 34,
   "id": "vfX6sZvz77_L",
   "metadata": {
    "colab": {
     "base_uri": "https://localhost:8080/"
    },
    "id": "vfX6sZvz77_L",
    "outputId": "05ed7dd5-251f-4d3d-8325-f630d6919fba"
   },
   "outputs": [
    {
     "data": {
      "text/plain": [
       "array([0., 0., 0., ..., 0., 0., 0.])"
      ]
     },
     "execution_count": 34,
     "metadata": {},
     "output_type": "execute_result"
    }
   ],
   "source": [
    "from sklearn.model_selection import train_test_split\n",
    "from sklearn.linear_model import LogisticRegression\n",
    "from sklearn import metrics\n",
    "X_train_loss, X_test_loss, y_train_loss, y_test_loss = train_test_split(X_loss, y_loss, test_size=0.30, random_state = 42)\n",
    "model = LogisticRegression(C=1, class_weight={0.0:0.92, 1.0:0.08})\n",
    "model.fit(X_train, y_train)\n",
    "pred = model.predict(X_test)\n",
    "pred"
   ]
  },
  {
   "cell_type": "code",
   "execution_count": 35,
   "id": "ID_PxTXT8KX1",
   "metadata": {
    "colab": {
     "base_uri": "https://localhost:8080/"
    },
    "id": "ID_PxTXT8KX1",
    "outputId": "46a74d45-f6db-41d4-b30b-3db9257f0184"
   },
   "outputs": [
    {
     "data": {
      "text/plain": [
       "0.5"
      ]
     },
     "execution_count": 35,
     "metadata": {},
     "output_type": "execute_result"
    }
   ],
   "source": [
    "auc = metrics.roc_auc_score(y_test, pred)\n",
    "auc # auc went down from 0.6 to 0.5, indicating adding the features might have had an adverse effect"
   ]
  },
  {
   "cell_type": "markdown",
   "id": "d9zhdgp68Rb7",
   "metadata": {
    "id": "d9zhdgp68Rb7"
   },
   "source": [
    "# **Applying two feature selection techniques**"
   ]
  },
  {
   "cell_type": "code",
   "execution_count": 36,
   "id": "86F_Lvoa8MWc",
   "metadata": {
    "colab": {
     "base_uri": "https://localhost:8080/"
    },
    "id": "86F_Lvoa8MWc",
    "outputId": "80be0009-9df6-4f3a-f55f-f5d7635f66f8"
   },
   "outputs": [
    {
     "name": "stdout",
     "output_type": "stream",
     "text": [
      "Collecting category_encoders\n",
      "  Downloading category_encoders-2.5.1.post0-py2.py3-none-any.whl (72 kB)\n",
      "Requirement already satisfied: numpy>=1.14.0 in c:\\users\\uscie\\anaconda4\\lib\\site-packages (from category_encoders) (1.21.5)\n",
      "Requirement already satisfied: scikit-learn>=0.20.0 in c:\\users\\uscie\\anaconda4\\lib\\site-packages (from category_encoders) (1.0.2)\n",
      "Requirement already satisfied: statsmodels>=0.9.0 in c:\\users\\uscie\\anaconda4\\lib\\site-packages (from category_encoders) (0.13.2)\n",
      "Requirement already satisfied: patsy>=0.5.1 in c:\\users\\uscie\\anaconda4\\lib\\site-packages (from category_encoders) (0.5.2)\n",
      "Requirement already satisfied: scipy>=1.0.0 in c:\\users\\uscie\\anaconda4\\lib\\site-packages (from category_encoders) (1.7.3)\n",
      "Requirement already satisfied: pandas>=1.0.5 in c:\\users\\uscie\\anaconda4\\lib\\site-packages (from category_encoders) (1.4.2)\n",
      "Requirement already satisfied: python-dateutil>=2.8.1 in c:\\users\\uscie\\anaconda4\\lib\\site-packages (from pandas>=1.0.5->category_encoders) (2.8.2)\n",
      "Requirement already satisfied: pytz>=2020.1 in c:\\users\\uscie\\anaconda4\\lib\\site-packages (from pandas>=1.0.5->category_encoders) (2021.3)\n",
      "Requirement already satisfied: six in c:\\users\\uscie\\anaconda4\\lib\\site-packages (from patsy>=0.5.1->category_encoders) (1.16.0)\n",
      "Requirement already satisfied: threadpoolctl>=2.0.0 in c:\\users\\uscie\\anaconda4\\lib\\site-packages (from scikit-learn>=0.20.0->category_encoders) (2.2.0)\n",
      "Requirement already satisfied: joblib>=0.11 in c:\\users\\uscie\\anaconda4\\lib\\site-packages (from scikit-learn>=0.20.0->category_encoders) (1.1.0)\n",
      "Requirement already satisfied: packaging>=21.3 in c:\\users\\uscie\\anaconda4\\lib\\site-packages (from statsmodels>=0.9.0->category_encoders) (21.3)\n",
      "Requirement already satisfied: pyparsing!=3.0.5,>=2.0.2 in c:\\users\\uscie\\anaconda4\\lib\\site-packages (from packaging>=21.3->statsmodels>=0.9.0->category_encoders) (3.0.4)\n",
      "Installing collected packages: category-encoders\n",
      "Successfully installed category-encoders-2.5.1.post0\n",
      "Note: you may need to restart the kernel to use updated packages.\n"
     ]
    }
   ],
   "source": [
    "pip install category_encoders"
   ]
  },
  {
   "cell_type": "code",
   "execution_count": 37,
   "id": "D-bwoFMQ8XFr",
   "metadata": {
    "id": "D-bwoFMQ8XFr"
   },
   "outputs": [],
   "source": [
    "import category_encoders as ce\n",
    "from sklearn.feature_selection import SelectKBest, SelectPercentile, mutual_info_classif"
   ]
  },
  {
   "cell_type": "markdown",
   "id": "5fnk1Frs8lhj",
   "metadata": {
    "id": "5fnk1Frs8lhj"
   },
   "source": [
    "# **Feature selection using mutual information algorithm**"
   ]
  },
  {
   "cell_type": "code",
   "execution_count": 41,
   "id": "6XURARso8n6s",
   "metadata": {
    "colab": {
     "base_uri": "https://localhost:8080/"
    },
    "id": "6XURARso8n6s",
    "outputId": "7c2569f0-9b7e-43df-a233-0f71ae5921ce"
   },
   "outputs": [
    {
     "data": {
      "text/plain": [
       "array([[0.0000000e+00, 6.9800000e+02, 1.5171000e+04, ..., 0.0000000e+00,\n",
       "        1.0000000e+00, 0.0000000e+00],\n",
       "       [0.0000000e+00, 7.3100000e+02, 2.0000000e+04, ..., 0.0000000e+00,\n",
       "        1.0000000e+00, 0.0000000e+00],\n",
       "       [0.0000000e+00, 6.6203222e+02, 2.5000000e+04, ..., 0.0000000e+00,\n",
       "        1.0000000e+00, 0.0000000e+00],\n",
       "       ...,\n",
       "       [0.0000000e+00, 7.2200000e+02, 5.5000000e+04, ..., 0.0000000e+00,\n",
       "        1.0000000e+00, 1.0000000e+00],\n",
       "       [0.0000000e+00, 6.6203222e+02, 1.8000000e+04, ..., 0.0000000e+00,\n",
       "        1.0000000e+00, 0.0000000e+00],\n",
       "       [0.0000000e+00, 6.3400000e+02, 3.5000000e+04, ..., 0.0000000e+00,\n",
       "        0.0000000e+00, 1.0000000e+00]])"
      ]
     },
     "execution_count": 41,
     "metadata": {},
     "output_type": "execute_result"
    }
   ],
   "source": [
    "selector = SelectKBest(mutual_info_classif, k=10)\n",
    "X_reduced = selector.fit_transform(X, y)\n",
    "X_reduced"
   ]
  },
  {
   "cell_type": "code",
   "execution_count": 42,
   "id": "U5zFP7OY8qGz",
   "metadata": {
    "colab": {
     "base_uri": "https://localhost:8080/"
    },
    "id": "U5zFP7OY8qGz",
    "outputId": "7ec951fb-05f4-48f8-9612-38d013387d55"
   },
   "outputs": [
    {
     "data": {
      "text/plain": [
       "(47882, 10)"
      ]
     },
     "execution_count": 42,
     "metadata": {},
     "output_type": "execute_result"
    }
   ],
   "source": [
    "X_reduced.shape"
   ]
  },
  {
   "cell_type": "code",
   "execution_count": 43,
   "id": "nQivwO7X8waY",
   "metadata": {
    "colab": {
     "base_uri": "https://localhost:8080/"
    },
    "id": "nQivwO7X8waY",
    "outputId": "77a1012e-ccac-481f-9b6f-6a3f18c5bf01"
   },
   "outputs": [
    {
     "data": {
      "text/plain": [
       "['bad_balance',\n",
       " 'vantage3_score',\n",
       " 'annual_income',\n",
       " 'acquisition_type_ORGANIC',\n",
       " 'snapshot_type_CREDIT_KARMA_LIGHTBOX',\n",
       " 'snapshot_type_FLOW_MODULARITY',\n",
       " 'channel_CK_ITA',\n",
       " 'channel_CK_LB',\n",
       " 'channel_OTHER',\n",
       " '31k-60k']"
      ]
     },
     "execution_count": 43,
     "metadata": {},
     "output_type": "execute_result"
    }
   ],
   "source": [
    "cols = selector.get_support(indices=True)\n",
    "selected_columns = X.iloc[:,cols].columns.tolist()\n",
    "selected_columns"
   ]
  },
  {
   "cell_type": "code",
   "execution_count": 44,
   "id": "lKts37ta8zBG",
   "metadata": {
    "id": "lKts37ta8zBG"
   },
   "outputs": [],
   "source": [
    "X = processed_data[selected_columns]\n",
    "y = processed_data['bad']"
   ]
  },
  {
   "cell_type": "code",
   "execution_count": 45,
   "id": "8XSXI0ic8-a7",
   "metadata": {
    "colab": {
     "base_uri": "https://localhost:8080/"
    },
    "id": "8XSXI0ic8-a7",
    "outputId": "87f622f3-dd15-4a71-9414-a7c5ba4fe908"
   },
   "outputs": [
    {
     "data": {
      "text/plain": [
       "array([0., 0., 0., ..., 1., 0., 1.])"
      ]
     },
     "execution_count": 45,
     "metadata": {},
     "output_type": "execute_result"
    }
   ],
   "source": [
    "X_train, X_test, y_train, y_test = train_test_split(X, y, test_size=0.30, random_state = 42)\n",
    "model = LogisticRegression(C=1, class_weight='balanced')\n",
    "model.fit(X_train, y_train)\n",
    "pred = model.predict(X_test)\n",
    "pred\n"
   ]
  },
  {
   "cell_type": "code",
   "execution_count": 46,
   "id": "zuLsjYYm9Ci3",
   "metadata": {
    "colab": {
     "base_uri": "https://localhost:8080/"
    },
    "id": "zuLsjYYm9Ci3",
    "outputId": "ad842e59-1e44-4fb7-cd7f-9f621ddb46bd"
   },
   "outputs": [
    {
     "data": {
      "text/plain": [
       "0.9764981925513216"
      ]
     },
     "execution_count": 46,
     "metadata": {},
     "output_type": "execute_result"
    }
   ],
   "source": [
    "auc = metrics.roc_auc_score(y_test, pred)\n",
    "auc"
   ]
  },
  {
   "cell_type": "code",
   "execution_count": 47,
   "id": "IV2J_8je9E9f",
   "metadata": {
    "id": "IV2J_8je9E9f"
   },
   "outputs": [],
   "source": [
    "from sklearn.preprocessing import LabelEncoder\n",
    "from sklearn.feature_selection import chi2"
   ]
  },
  {
   "cell_type": "code",
   "execution_count": 48,
   "id": "Px-fRoRd9KrR",
   "metadata": {
    "colab": {
     "base_uri": "https://localhost:8080/",
     "height": 505
    },
    "id": "Px-fRoRd9KrR",
    "outputId": "f1111218-a648-4594-9838-f758ad08b55a"
   },
   "outputs": [
    {
     "data": {
      "text/html": [
       "<div>\n",
       "<style scoped>\n",
       "    .dataframe tbody tr th:only-of-type {\n",
       "        vertical-align: middle;\n",
       "    }\n",
       "\n",
       "    .dataframe tbody tr th {\n",
       "        vertical-align: top;\n",
       "    }\n",
       "\n",
       "    .dataframe thead th {\n",
       "        text-align: right;\n",
       "    }\n",
       "</style>\n",
       "<table border=\"1\" class=\"dataframe\">\n",
       "  <thead>\n",
       "    <tr style=\"text-align: right;\">\n",
       "      <th></th>\n",
       "      <th>bad_balance</th>\n",
       "      <th>vantage3_score</th>\n",
       "      <th>annual_income</th>\n",
       "      <th>acquisition_type_ORGANIC</th>\n",
       "      <th>snapshot_type_CREDIT_KARMA_LIGHTBOX</th>\n",
       "      <th>snapshot_type_FLOW_MODULARITY</th>\n",
       "      <th>channel_CK_ITA</th>\n",
       "      <th>channel_CK_LB</th>\n",
       "      <th>channel_OTHER</th>\n",
       "      <th>31k-60k</th>\n",
       "    </tr>\n",
       "  </thead>\n",
       "  <tbody>\n",
       "    <tr>\n",
       "      <th>0</th>\n",
       "      <td>0</td>\n",
       "      <td>235</td>\n",
       "      <td>511</td>\n",
       "      <td>1</td>\n",
       "      <td>0</td>\n",
       "      <td>1</td>\n",
       "      <td>0</td>\n",
       "      <td>0</td>\n",
       "      <td>1</td>\n",
       "      <td>0</td>\n",
       "    </tr>\n",
       "    <tr>\n",
       "      <th>1</th>\n",
       "      <td>0</td>\n",
       "      <td>268</td>\n",
       "      <td>761</td>\n",
       "      <td>1</td>\n",
       "      <td>0</td>\n",
       "      <td>1</td>\n",
       "      <td>0</td>\n",
       "      <td>0</td>\n",
       "      <td>1</td>\n",
       "      <td>0</td>\n",
       "    </tr>\n",
       "    <tr>\n",
       "      <th>2</th>\n",
       "      <td>0</td>\n",
       "      <td>199</td>\n",
       "      <td>1041</td>\n",
       "      <td>1</td>\n",
       "      <td>0</td>\n",
       "      <td>1</td>\n",
       "      <td>0</td>\n",
       "      <td>0</td>\n",
       "      <td>1</td>\n",
       "      <td>0</td>\n",
       "    </tr>\n",
       "    <tr>\n",
       "      <th>3</th>\n",
       "      <td>0</td>\n",
       "      <td>252</td>\n",
       "      <td>3586</td>\n",
       "      <td>1</td>\n",
       "      <td>0</td>\n",
       "      <td>1</td>\n",
       "      <td>0</td>\n",
       "      <td>0</td>\n",
       "      <td>1</td>\n",
       "      <td>0</td>\n",
       "    </tr>\n",
       "    <tr>\n",
       "      <th>4</th>\n",
       "      <td>0</td>\n",
       "      <td>199</td>\n",
       "      <td>2443</td>\n",
       "      <td>1</td>\n",
       "      <td>0</td>\n",
       "      <td>1</td>\n",
       "      <td>0</td>\n",
       "      <td>0</td>\n",
       "      <td>1</td>\n",
       "      <td>1</td>\n",
       "    </tr>\n",
       "    <tr>\n",
       "      <th>...</th>\n",
       "      <td>...</td>\n",
       "      <td>...</td>\n",
       "      <td>...</td>\n",
       "      <td>...</td>\n",
       "      <td>...</td>\n",
       "      <td>...</td>\n",
       "      <td>...</td>\n",
       "      <td>...</td>\n",
       "      <td>...</td>\n",
       "      <td>...</td>\n",
       "    </tr>\n",
       "    <tr>\n",
       "      <th>48707</th>\n",
       "      <td>0</td>\n",
       "      <td>269</td>\n",
       "      <td>1041</td>\n",
       "      <td>1</td>\n",
       "      <td>0</td>\n",
       "      <td>1</td>\n",
       "      <td>0</td>\n",
       "      <td>0</td>\n",
       "      <td>1</td>\n",
       "      <td>0</td>\n",
       "    </tr>\n",
       "    <tr>\n",
       "      <th>48708</th>\n",
       "      <td>0</td>\n",
       "      <td>242</td>\n",
       "      <td>2736</td>\n",
       "      <td>1</td>\n",
       "      <td>0</td>\n",
       "      <td>1</td>\n",
       "      <td>0</td>\n",
       "      <td>0</td>\n",
       "      <td>1</td>\n",
       "      <td>0</td>\n",
       "    </tr>\n",
       "    <tr>\n",
       "      <th>48709</th>\n",
       "      <td>0</td>\n",
       "      <td>259</td>\n",
       "      <td>2528</td>\n",
       "      <td>1</td>\n",
       "      <td>0</td>\n",
       "      <td>1</td>\n",
       "      <td>0</td>\n",
       "      <td>0</td>\n",
       "      <td>1</td>\n",
       "      <td>1</td>\n",
       "    </tr>\n",
       "    <tr>\n",
       "      <th>48710</th>\n",
       "      <td>0</td>\n",
       "      <td>199</td>\n",
       "      <td>658</td>\n",
       "      <td>1</td>\n",
       "      <td>0</td>\n",
       "      <td>1</td>\n",
       "      <td>0</td>\n",
       "      <td>0</td>\n",
       "      <td>1</td>\n",
       "      <td>0</td>\n",
       "    </tr>\n",
       "    <tr>\n",
       "      <th>48711</th>\n",
       "      <td>0</td>\n",
       "      <td>170</td>\n",
       "      <td>1577</td>\n",
       "      <td>1</td>\n",
       "      <td>0</td>\n",
       "      <td>1</td>\n",
       "      <td>1</td>\n",
       "      <td>0</td>\n",
       "      <td>0</td>\n",
       "      <td>1</td>\n",
       "    </tr>\n",
       "  </tbody>\n",
       "</table>\n",
       "<p>47882 rows × 10 columns</p>\n",
       "</div>"
      ],
      "text/plain": [
       "       bad_balance  vantage3_score  annual_income  acquisition_type_ORGANIC  \\\n",
       "0                0             235            511                         1   \n",
       "1                0             268            761                         1   \n",
       "2                0             199           1041                         1   \n",
       "3                0             252           3586                         1   \n",
       "4                0             199           2443                         1   \n",
       "...            ...             ...            ...                       ...   \n",
       "48707            0             269           1041                         1   \n",
       "48708            0             242           2736                         1   \n",
       "48709            0             259           2528                         1   \n",
       "48710            0             199            658                         1   \n",
       "48711            0             170           1577                         1   \n",
       "\n",
       "       snapshot_type_CREDIT_KARMA_LIGHTBOX  snapshot_type_FLOW_MODULARITY  \\\n",
       "0                                        0                              1   \n",
       "1                                        0                              1   \n",
       "2                                        0                              1   \n",
       "3                                        0                              1   \n",
       "4                                        0                              1   \n",
       "...                                    ...                            ...   \n",
       "48707                                    0                              1   \n",
       "48708                                    0                              1   \n",
       "48709                                    0                              1   \n",
       "48710                                    0                              1   \n",
       "48711                                    0                              1   \n",
       "\n",
       "       channel_CK_ITA  channel_CK_LB  channel_OTHER  31k-60k  \n",
       "0                   0              0              1        0  \n",
       "1                   0              0              1        0  \n",
       "2                   0              0              1        0  \n",
       "3                   0              0              1        0  \n",
       "4                   0              0              1        1  \n",
       "...               ...            ...            ...      ...  \n",
       "48707               0              0              1        0  \n",
       "48708               0              0              1        0  \n",
       "48709               0              0              1        1  \n",
       "48710               0              0              1        0  \n",
       "48711               1              0              0        1  \n",
       "\n",
       "[47882 rows x 10 columns]"
      ]
     },
     "execution_count": 48,
     "metadata": {},
     "output_type": "execute_result"
    }
   ],
   "source": [
    "label_encoder = LabelEncoder()\n",
    "for col in X.columns:\n",
    " X[col] = label_encoder.fit_transform(X[col])\n",
    "X"
   ]
  },
  {
   "cell_type": "code",
   "execution_count": 49,
   "id": "NJ_1CzV39Mhr",
   "metadata": {
    "colab": {
     "base_uri": "https://localhost:8080/"
    },
    "id": "NJ_1CzV39Mhr",
    "outputId": "b7113592-0f5a-4c68-c1b4-62918e3b722e"
   },
   "outputs": [
    {
     "data": {
      "text/plain": [
       "(array([5.76477237e+07, 2.67067965e+03, 5.43867389e+03, 1.93307580e+01,\n",
       "        4.66664461e+02, 1.93307580e+01, 1.27700816e+02, 4.66664461e+02,\n",
       "        2.28941364e+02, 2.23683199e+01]),\n",
       " array([0.00000000e+000, 0.00000000e+000, 0.00000000e+000, 1.09921342e-005,\n",
       "        1.70455847e-103, 1.09921342e-005, 1.30504867e-029, 1.70455847e-103,\n",
       "        1.01441504e-051, 2.25055923e-006]))"
      ]
     },
     "execution_count": 49,
     "metadata": {},
     "output_type": "execute_result"
    }
   ],
   "source": [
    "chi_scores = chi2(X,y)\n",
    "chi_scores\n"
   ]
  },
  {
   "cell_type": "code",
   "execution_count": 50,
   "id": "johqmAT29QM_",
   "metadata": {
    "id": "johqmAT29QM_"
   },
   "outputs": [],
   "source": [
    "p_values = pd.Series(chi_scores[1],index = X.columns)\n",
    "p_values.sort_values(ascending = False , inplace = True)"
   ]
  },
  {
   "cell_type": "code",
   "execution_count": 51,
   "id": "2nyQECwZ9SZP",
   "metadata": {
    "colab": {
     "base_uri": "https://localhost:8080/",
     "height": 581
    },
    "id": "2nyQECwZ9SZP",
    "outputId": "ea77c088-4bf1-4da0-ad6b-4c0b8cb4727a"
   },
   "outputs": [
    {
     "data": {
      "text/plain": [
       "(<AxesSubplot:>,\n",
       " Index(['bad_balance', 'vantage3_score', 'annual_income',\n",
       "        'acquisition_type_ORGANIC', 'snapshot_type_CREDIT_KARMA_LIGHTBOX',\n",
       "        'snapshot_type_FLOW_MODULARITY', 'channel_CK_ITA', 'channel_CK_LB',\n",
       "        'channel_OTHER', '31k-60k'],\n",
       "       dtype='object'))"
      ]
     },
     "execution_count": 51,
     "metadata": {},
     "output_type": "execute_result"
    },
    {
     "data": {
      "image/png": "[encoded data removed]",
      "text/plain": [
       "<Figure size 432x288 with 1 Axes>"
      ]
     },
     "metadata": {
      "needs_background": "light"
     },
     "output_type": "display_data"
    }
   ],
   "source": [
    "p_values.plot.bar(),X.columns"
   ]
  },
  {
   "cell_type": "markdown",
   "id": "41589628",
   "metadata": {},
   "source": [
    "## Using all features"
   ]
  },
  {
   "cell_type": "code",
   "execution_count": 68,
   "id": "3977c046",
   "metadata": {},
   "outputs": [],
   "source": [
    "import pandas as pd\n",
    "import numpy as np\n",
    "from sklearn.impute import SimpleImputer\n",
    "from sklearn.preprocessing import LabelEncoder\n",
    "from sklearn.preprocessing import OneHotEncoder\n",
    "from sklearn.model_selection import train_test_split\n",
    "from matplotlib import pyplot as plt"
   ]
  },
  {
   "cell_type": "code",
   "execution_count": 69,
   "id": "60df2cc5",
   "metadata": {},
   "outputs": [],
   "source": [
    "data = pd.read_pickle('forStudents.pkl')\n",
    "data = data.dropna(subset = ['all0000','bad'])\n",
    "data = data[data['bad'] != -1]\n",
    "y = data['bad']\n",
    "data = data.drop(['bad'],axis = 1)\n",
    "le = LabelEncoder()\n",
    "label = le.fit_transform(data['state_code'])\n",
    "data['state_code'] = label"
   ]
  },
  {
   "cell_type": "code",
   "execution_count": 70,
   "id": "42fd398f",
   "metadata": {},
   "outputs": [],
   "source": [
    "ohe = OneHotEncoder()\n",
    "oneHot = ohe.fit_transform(data.select_dtypes(['object'])).toarray()\n",
    "feature_names = ohe.get_feature_names(data.select_dtypes(['object']).columns)\n",
    "data = pd.concat(\n",
    "    [\n",
    "        data,\n",
    "        pd.DataFrame(\n",
    "            oneHot, \n",
    "            index=data.index, \n",
    "            columns= feature_names\n",
    "        )\n",
    "    ], axis=1\n",
    ")"
   ]
  },
  {
   "cell_type": "code",
   "execution_count": 71,
   "id": "6f8d58a5",
   "metadata": {},
   "outputs": [
    {
     "data": {
      "text/html": [
       "<div>\n",
       "<style scoped>\n",
       "    .dataframe tbody tr th:only-of-type {\n",
       "        vertical-align: middle;\n",
       "    }\n",
       "\n",
       "    .dataframe tbody tr th {\n",
       "        vertical-align: top;\n",
       "    }\n",
       "\n",
       "    .dataframe thead th {\n",
       "        text-align: right;\n",
       "    }\n",
       "</style>\n",
       "<table border=\"1\" class=\"dataframe\">\n",
       "  <thead>\n",
       "    <tr style=\"text-align: right;\">\n",
       "      <th></th>\n",
       "      <th>vintage</th>\n",
       "      <th>is_app_approved</th>\n",
       "      <th>vantage3_score</th>\n",
       "      <th>bad_v2</th>\n",
       "      <th>bad_balance</th>\n",
       "      <th>current_balance</th>\n",
       "      <th>net_spend</th>\n",
       "      <th>annual_income</th>\n",
       "      <th>state_code</th>\n",
       "      <th>all0000</th>\n",
       "      <th>...</th>\n",
       "      <th>rowNumber</th>\n",
       "      <th>acquisition_type_ORGANIC</th>\n",
       "      <th>acquisition_type_PRESCREENED</th>\n",
       "      <th>snapshot_type_CREDIT_KARMA_LIGHTBOX</th>\n",
       "      <th>snapshot_type_DIRECT_MAIL</th>\n",
       "      <th>snapshot_type_FLOW_MODULARITY</th>\n",
       "      <th>channel_CK_ITA</th>\n",
       "      <th>channel_CK_LB</th>\n",
       "      <th>channel_DM</th>\n",
       "      <th>channel_OTHER</th>\n",
       "    </tr>\n",
       "  </thead>\n",
       "  <tbody>\n",
       "    <tr>\n",
       "      <th>0</th>\n",
       "      <td>202108</td>\n",
       "      <td>1</td>\n",
       "      <td>698.0</td>\n",
       "      <td>0.0</td>\n",
       "      <td>0.0</td>\n",
       "      <td>0.00</td>\n",
       "      <td>5.51</td>\n",
       "      <td>15171</td>\n",
       "      <td>6</td>\n",
       "      <td>10.0</td>\n",
       "      <td>...</td>\n",
       "      <td>59486</td>\n",
       "      <td>1.0</td>\n",
       "      <td>0.0</td>\n",
       "      <td>0.0</td>\n",
       "      <td>0.0</td>\n",
       "      <td>1.0</td>\n",
       "      <td>0.0</td>\n",
       "      <td>0.0</td>\n",
       "      <td>0.0</td>\n",
       "      <td>1.0</td>\n",
       "    </tr>\n",
       "    <tr>\n",
       "      <th>1</th>\n",
       "      <td>202103</td>\n",
       "      <td>1</td>\n",
       "      <td>731.0</td>\n",
       "      <td>0.0</td>\n",
       "      <td>0.0</td>\n",
       "      <td>30.95</td>\n",
       "      <td>30.95</td>\n",
       "      <td>20000</td>\n",
       "      <td>7</td>\n",
       "      <td>3.0</td>\n",
       "      <td>...</td>\n",
       "      <td>2357</td>\n",
       "      <td>1.0</td>\n",
       "      <td>0.0</td>\n",
       "      <td>0.0</td>\n",
       "      <td>0.0</td>\n",
       "      <td>1.0</td>\n",
       "      <td>0.0</td>\n",
       "      <td>0.0</td>\n",
       "      <td>0.0</td>\n",
       "      <td>1.0</td>\n",
       "    </tr>\n",
       "    <tr>\n",
       "      <th>3</th>\n",
       "      <td>202106</td>\n",
       "      <td>1</td>\n",
       "      <td>715.0</td>\n",
       "      <td>0.0</td>\n",
       "      <td>0.0</td>\n",
       "      <td>0.00</td>\n",
       "      <td>0.00</td>\n",
       "      <td>114779</td>\n",
       "      <td>41</td>\n",
       "      <td>37.0</td>\n",
       "      <td>...</td>\n",
       "      <td>104654</td>\n",
       "      <td>1.0</td>\n",
       "      <td>0.0</td>\n",
       "      <td>0.0</td>\n",
       "      <td>0.0</td>\n",
       "      <td>1.0</td>\n",
       "      <td>0.0</td>\n",
       "      <td>0.0</td>\n",
       "      <td>0.0</td>\n",
       "      <td>1.0</td>\n",
       "    </tr>\n",
       "    <tr>\n",
       "      <th>5</th>\n",
       "      <td>202103</td>\n",
       "      <td>1</td>\n",
       "      <td>667.0</td>\n",
       "      <td>0.0</td>\n",
       "      <td>0.0</td>\n",
       "      <td>0.00</td>\n",
       "      <td>0.00</td>\n",
       "      <td>36000</td>\n",
       "      <td>46</td>\n",
       "      <td>1.0</td>\n",
       "      <td>...</td>\n",
       "      <td>92100</td>\n",
       "      <td>1.0</td>\n",
       "      <td>0.0</td>\n",
       "      <td>0.0</td>\n",
       "      <td>0.0</td>\n",
       "      <td>1.0</td>\n",
       "      <td>0.0</td>\n",
       "      <td>0.0</td>\n",
       "      <td>0.0</td>\n",
       "      <td>1.0</td>\n",
       "    </tr>\n",
       "    <tr>\n",
       "      <th>6</th>\n",
       "      <td>202108</td>\n",
       "      <td>1</td>\n",
       "      <td>641.0</td>\n",
       "      <td>0.0</td>\n",
       "      <td>0.0</td>\n",
       "      <td>0.00</td>\n",
       "      <td>0.00</td>\n",
       "      <td>120000</td>\n",
       "      <td>27</td>\n",
       "      <td>16.0</td>\n",
       "      <td>...</td>\n",
       "      <td>103437</td>\n",
       "      <td>1.0</td>\n",
       "      <td>0.0</td>\n",
       "      <td>0.0</td>\n",
       "      <td>0.0</td>\n",
       "      <td>1.0</td>\n",
       "      <td>0.0</td>\n",
       "      <td>0.0</td>\n",
       "      <td>0.0</td>\n",
       "      <td>1.0</td>\n",
       "    </tr>\n",
       "    <tr>\n",
       "      <th>...</th>\n",
       "      <td>...</td>\n",
       "      <td>...</td>\n",
       "      <td>...</td>\n",
       "      <td>...</td>\n",
       "      <td>...</td>\n",
       "      <td>...</td>\n",
       "      <td>...</td>\n",
       "      <td>...</td>\n",
       "      <td>...</td>\n",
       "      <td>...</td>\n",
       "      <td>...</td>\n",
       "      <td>...</td>\n",
       "      <td>...</td>\n",
       "      <td>...</td>\n",
       "      <td>...</td>\n",
       "      <td>...</td>\n",
       "      <td>...</td>\n",
       "      <td>...</td>\n",
       "      <td>...</td>\n",
       "      <td>...</td>\n",
       "      <td>...</td>\n",
       "    </tr>\n",
       "    <tr>\n",
       "      <th>48706</th>\n",
       "      <td>202104</td>\n",
       "      <td>1</td>\n",
       "      <td>644.0</td>\n",
       "      <td>0.0</td>\n",
       "      <td>0.0</td>\n",
       "      <td>0.00</td>\n",
       "      <td>0.00</td>\n",
       "      <td>160000</td>\n",
       "      <td>13</td>\n",
       "      <td>36.0</td>\n",
       "      <td>...</td>\n",
       "      <td>11542</td>\n",
       "      <td>1.0</td>\n",
       "      <td>0.0</td>\n",
       "      <td>0.0</td>\n",
       "      <td>0.0</td>\n",
       "      <td>1.0</td>\n",
       "      <td>0.0</td>\n",
       "      <td>0.0</td>\n",
       "      <td>0.0</td>\n",
       "      <td>1.0</td>\n",
       "    </tr>\n",
       "    <tr>\n",
       "      <th>48707</th>\n",
       "      <td>202105</td>\n",
       "      <td>1</td>\n",
       "      <td>732.0</td>\n",
       "      <td>0.0</td>\n",
       "      <td>0.0</td>\n",
       "      <td>296.83</td>\n",
       "      <td>296.83</td>\n",
       "      <td>25000</td>\n",
       "      <td>47</td>\n",
       "      <td>2.0</td>\n",
       "      <td>...</td>\n",
       "      <td>131881</td>\n",
       "      <td>1.0</td>\n",
       "      <td>0.0</td>\n",
       "      <td>0.0</td>\n",
       "      <td>0.0</td>\n",
       "      <td>1.0</td>\n",
       "      <td>0.0</td>\n",
       "      <td>0.0</td>\n",
       "      <td>0.0</td>\n",
       "      <td>1.0</td>\n",
       "    </tr>\n",
       "    <tr>\n",
       "      <th>48708</th>\n",
       "      <td>202011</td>\n",
       "      <td>1</td>\n",
       "      <td>705.0</td>\n",
       "      <td>0.0</td>\n",
       "      <td>0.0</td>\n",
       "      <td>0.00</td>\n",
       "      <td>0.00</td>\n",
       "      <td>60897</td>\n",
       "      <td>13</td>\n",
       "      <td>11.0</td>\n",
       "      <td>...</td>\n",
       "      <td>47197</td>\n",
       "      <td>1.0</td>\n",
       "      <td>0.0</td>\n",
       "      <td>0.0</td>\n",
       "      <td>0.0</td>\n",
       "      <td>1.0</td>\n",
       "      <td>0.0</td>\n",
       "      <td>0.0</td>\n",
       "      <td>0.0</td>\n",
       "      <td>1.0</td>\n",
       "    </tr>\n",
       "    <tr>\n",
       "      <th>48709</th>\n",
       "      <td>202104</td>\n",
       "      <td>1</td>\n",
       "      <td>722.0</td>\n",
       "      <td>0.0</td>\n",
       "      <td>0.0</td>\n",
       "      <td>0.00</td>\n",
       "      <td>0.00</td>\n",
       "      <td>55000</td>\n",
       "      <td>28</td>\n",
       "      <td>31.0</td>\n",
       "      <td>...</td>\n",
       "      <td>29739</td>\n",
       "      <td>1.0</td>\n",
       "      <td>0.0</td>\n",
       "      <td>0.0</td>\n",
       "      <td>0.0</td>\n",
       "      <td>1.0</td>\n",
       "      <td>0.0</td>\n",
       "      <td>0.0</td>\n",
       "      <td>0.0</td>\n",
       "      <td>1.0</td>\n",
       "    </tr>\n",
       "    <tr>\n",
       "      <th>48711</th>\n",
       "      <td>202105</td>\n",
       "      <td>1</td>\n",
       "      <td>634.0</td>\n",
       "      <td>0.0</td>\n",
       "      <td>0.0</td>\n",
       "      <td>0.00</td>\n",
       "      <td>0.00</td>\n",
       "      <td>35000</td>\n",
       "      <td>18</td>\n",
       "      <td>12.0</td>\n",
       "      <td>...</td>\n",
       "      <td>50643</td>\n",
       "      <td>1.0</td>\n",
       "      <td>0.0</td>\n",
       "      <td>0.0</td>\n",
       "      <td>0.0</td>\n",
       "      <td>1.0</td>\n",
       "      <td>1.0</td>\n",
       "      <td>0.0</td>\n",
       "      <td>0.0</td>\n",
       "      <td>0.0</td>\n",
       "    </tr>\n",
       "  </tbody>\n",
       "</table>\n",
       "<p>42546 rows × 842 columns</p>\n",
       "</div>"
      ],
      "text/plain": [
       "       vintage  is_app_approved  vantage3_score  bad_v2  bad_balance  \\\n",
       "0       202108                1           698.0     0.0          0.0   \n",
       "1       202103                1           731.0     0.0          0.0   \n",
       "3       202106                1           715.0     0.0          0.0   \n",
       "5       202103                1           667.0     0.0          0.0   \n",
       "6       202108                1           641.0     0.0          0.0   \n",
       "...        ...              ...             ...     ...          ...   \n",
       "48706   202104                1           644.0     0.0          0.0   \n",
       "48707   202105                1           732.0     0.0          0.0   \n",
       "48708   202011                1           705.0     0.0          0.0   \n",
       "48709   202104                1           722.0     0.0          0.0   \n",
       "48711   202105                1           634.0     0.0          0.0   \n",
       "\n",
       "       current_balance  net_spend  annual_income  state_code  all0000  ...  \\\n",
       "0                 0.00       5.51          15171           6     10.0  ...   \n",
       "1                30.95      30.95          20000           7      3.0  ...   \n",
       "3                 0.00       0.00         114779          41     37.0  ...   \n",
       "5                 0.00       0.00          36000          46      1.0  ...   \n",
       "6                 0.00       0.00         120000          27     16.0  ...   \n",
       "...                ...        ...            ...         ...      ...  ...   \n",
       "48706             0.00       0.00         160000          13     36.0  ...   \n",
       "48707           296.83     296.83          25000          47      2.0  ...   \n",
       "48708             0.00       0.00          60897          13     11.0  ...   \n",
       "48709             0.00       0.00          55000          28     31.0  ...   \n",
       "48711             0.00       0.00          35000          18     12.0  ...   \n",
       "\n",
       "       rowNumber  acquisition_type_ORGANIC  acquisition_type_PRESCREENED  \\\n",
       "0          59486                       1.0                           0.0   \n",
       "1           2357                       1.0                           0.0   \n",
       "3         104654                       1.0                           0.0   \n",
       "5          92100                       1.0                           0.0   \n",
       "6         103437                       1.0                           0.0   \n",
       "...          ...                       ...                           ...   \n",
       "48706      11542                       1.0                           0.0   \n",
       "48707     131881                       1.0                           0.0   \n",
       "48708      47197                       1.0                           0.0   \n",
       "48709      29739                       1.0                           0.0   \n",
       "48711      50643                       1.0                           0.0   \n",
       "\n",
       "       snapshot_type_CREDIT_KARMA_LIGHTBOX  snapshot_type_DIRECT_MAIL  \\\n",
       "0                                      0.0                        0.0   \n",
       "1                                      0.0                        0.0   \n",
       "3                                      0.0                        0.0   \n",
       "5                                      0.0                        0.0   \n",
       "6                                      0.0                        0.0   \n",
       "...                                    ...                        ...   \n",
       "48706                                  0.0                        0.0   \n",
       "48707                                  0.0                        0.0   \n",
       "48708                                  0.0                        0.0   \n",
       "48709                                  0.0                        0.0   \n",
       "48711                                  0.0                        0.0   \n",
       "\n",
       "       snapshot_type_FLOW_MODULARITY  channel_CK_ITA  channel_CK_LB  \\\n",
       "0                                1.0             0.0            0.0   \n",
       "1                                1.0             0.0            0.0   \n",
       "3                                1.0             0.0            0.0   \n",
       "5                                1.0             0.0            0.0   \n",
       "6                                1.0             0.0            0.0   \n",
       "...                              ...             ...            ...   \n",
       "48706                            1.0             0.0            0.0   \n",
       "48707                            1.0             0.0            0.0   \n",
       "48708                            1.0             0.0            0.0   \n",
       "48709                            1.0             0.0            0.0   \n",
       "48711                            1.0             1.0            0.0   \n",
       "\n",
       "       channel_DM  channel_OTHER  \n",
       "0             0.0            1.0  \n",
       "1             0.0            1.0  \n",
       "3             0.0            1.0  \n",
       "5             0.0            1.0  \n",
       "6             0.0            1.0  \n",
       "...           ...            ...  \n",
       "48706         0.0            1.0  \n",
       "48707         0.0            1.0  \n",
       "48708         0.0            1.0  \n",
       "48709         0.0            1.0  \n",
       "48711         0.0            0.0  \n",
       "\n",
       "[42546 rows x 842 columns]"
      ]
     },
     "execution_count": 71,
     "metadata": {},
     "output_type": "execute_result"
    }
   ],
   "source": [
    "numerics = data.select_dtypes(['number'])\n",
    "numerics"
   ]
  },
  {
   "cell_type": "code",
   "execution_count": 72,
   "id": "1c45e527",
   "metadata": {},
   "outputs": [
    {
     "data": {
      "text/plain": [
       "array([[2.02108e+05, 1.00000e+00, 6.98000e+02, ..., 0.00000e+00,\n",
       "        0.00000e+00, 1.00000e+00],\n",
       "       [2.02103e+05, 1.00000e+00, 7.31000e+02, ..., 0.00000e+00,\n",
       "        0.00000e+00, 1.00000e+00],\n",
       "       [2.02106e+05, 1.00000e+00, 7.15000e+02, ..., 0.00000e+00,\n",
       "        0.00000e+00, 1.00000e+00],\n",
       "       ...,\n",
       "       [2.02011e+05, 1.00000e+00, 7.05000e+02, ..., 0.00000e+00,\n",
       "        0.00000e+00, 1.00000e+00],\n",
       "       [2.02104e+05, 1.00000e+00, 7.22000e+02, ..., 0.00000e+00,\n",
       "        0.00000e+00, 1.00000e+00],\n",
       "       [2.02105e+05, 1.00000e+00, 6.34000e+02, ..., 0.00000e+00,\n",
       "        0.00000e+00, 0.00000e+00]])"
      ]
     },
     "execution_count": 72,
     "metadata": {},
     "output_type": "execute_result"
    }
   ],
   "source": [
    "imp = SimpleImputer(missing_values=np.nan, strategy = 'mean')\n",
    "imp.fit(numerics)\n",
    "X = imp.transform(numerics)\n",
    "X"
   ]
  },
  {
   "cell_type": "code",
   "execution_count": null,
   "id": "784fdd6c",
   "metadata": {},
   "outputs": [],
   "source": []
  },
  {
   "cell_type": "code",
   "execution_count": null,
   "id": "891b2404",
   "metadata": {},
   "outputs": [],
   "source": []
  },
  {
   "cell_type": "code",
   "execution_count": null,
   "id": "c0a76b15",
   "metadata": {},
   "outputs": [],
   "source": []
  },
  {
   "cell_type": "code",
   "execution_count": 73,
   "id": "Q-jTLF3Y9U4A",
   "metadata": {
    "colab": {
     "base_uri": "https://localhost:8080/"
    },
    "id": "Q-jTLF3Y9U4A",
    "outputId": "43be36b5-4d78-424e-f75f-cd802bbe1bc0"
   },
   "outputs": [
    {
     "data": {
      "text/plain": [
       "array([0., 0., 0., ..., 1., 0., 1.])"
      ]
     },
     "execution_count": 73,
     "metadata": {},
     "output_type": "execute_result"
    }
   ],
   "source": [
    "X_train, X_test, y_train, y_test = train_test_split(X, y, test_size=0.30, random_state=42)\n",
    "model = LogisticRegression(C=1, class_weight='balanced')\n",
    "model.fit(X_train, y_train)\n",
    "pred = model.predict(X_test)\n",
    "pred"
   ]
  },
  {
   "cell_type": "code",
   "execution_count": 53,
   "id": "1V56JXt49dEd",
   "metadata": {
    "colab": {
     "base_uri": "https://localhost:8080/"
    },
    "id": "1V56JXt49dEd",
    "outputId": "45da9ef0-7f1e-4f05-d5eb-64791c6ea3ca"
   },
   "outputs": [
    {
     "data": {
      "text/plain": [
       "1318.0"
      ]
     },
     "execution_count": 53,
     "metadata": {},
     "output_type": "execute_result"
    }
   ],
   "source": [
    "pred.sum()\n"
   ]
  },
  {
   "cell_type": "code",
   "execution_count": 74,
   "id": "Pkv6SSs39eyC",
   "metadata": {
    "colab": {
     "base_uri": "https://localhost:8080/"
    },
    "id": "Pkv6SSs39eyC",
    "outputId": "166e75ef-7ff1-4144-e5df-da05a36eb243"
   },
   "outputs": [
    {
     "data": {
      "text/plain": [
       "0.9507652794180308"
      ]
     },
     "execution_count": 74,
     "metadata": {},
     "output_type": "execute_result"
    }
   ],
   "source": [
    "auc = metrics.roc_auc_score(y_test, pred)\n",
    "auc "
   ]
  },
  {
   "cell_type": "code",
   "execution_count": 98,
   "id": "Lt8fp_0m9gwD",
   "metadata": {
    "id": "Lt8fp_0m9gwD"
   },
   "outputs": [],
   "source": [
    "bins = np.histogram(y,bins = 10)[1]\n",
    "y_discrete = np.digitize(y,bins)"
   ]
  },
  {
   "cell_type": "code",
   "execution_count": 99,
   "id": "2baqV5Q0E-R9",
   "metadata": {
    "id": "2baqV5Q0E-R9"
   },
   "outputs": [],
   "source": [
    "X_train, X_test, y_train, y_test = train_test_split(X, y_discrete, test_size = 0.2,random_state = 0)"
   ]
  },
  {
   "cell_type": "code",
   "execution_count": 100,
   "id": "06790905",
   "metadata": {},
   "outputs": [],
   "source": [
    "from sklearn.ensemble import RandomForestClassifier as rfc\n",
    "model = rfc(max_depth = 8).fit(X_train,y_train)"
   ]
  },
  {
   "cell_type": "code",
   "execution_count": 101,
   "id": "7976b437",
   "metadata": {},
   "outputs": [],
   "source": [
    "pred = model.predict(X_test)"
   ]
  },
  {
   "cell_type": "code",
   "execution_count": 102,
   "id": "39a03cee",
   "metadata": {},
   "outputs": [
    {
     "data": {
      "text/plain": [
       "0.8838797814207651"
      ]
     },
     "execution_count": 102,
     "metadata": {},
     "output_type": "execute_result"
    }
   ],
   "source": [
    "auc = metrics.roc_auc_score(y_test, pred)\n",
    "auc "
   ]
  },
  {
   "cell_type": "code",
   "execution_count": 118,
   "id": "7586b861",
   "metadata": {},
   "outputs": [
    {
     "data": {
      "text/plain": [
       "array([0.99612184, 0.96171203, 0.95409674])"
      ]
     },
     "execution_count": 118,
     "metadata": {},
     "output_type": "execute_result"
    }
   ],
   "source": [
    "cross_val_score(model, X, y_discrete, cv=3)"
   ]
  },
  {
   "cell_type": "code",
   "execution_count": 119,
   "id": "61455f43",
   "metadata": {},
   "outputs": [
    {
     "data": {
      "text/plain": [
       "array([0.99908335, 0.99873079, 0.99682696])"
      ]
     },
     "execution_count": 119,
     "metadata": {},
     "output_type": "execute_result"
    }
   ],
   "source": [
    "from sklearn.ensemble import RandomForestClassifier as rfc\n",
    "model = rfc(max_depth = 10).fit(X_train,y_train)\n",
    "cross_val_score(model, X, y_discrete, cv=3)"
   ]
  },
  {
   "cell_type": "code",
   "execution_count": 115,
   "id": "e4040d45",
   "metadata": {},
   "outputs": [],
   "source": []
  },
  {
   "cell_type": "code",
   "execution_count": null,
   "id": "c1d5f6f1",
   "metadata": {},
   "outputs": [],
   "source": []
  }
 ],
 "metadata": {
  "colab": {
   "collapsed_sections": [],
   "provenance": []
  },
  "kernelspec": {
   "display_name": "Python 3 (ipykernel)",
   "language": "python",
   "name": "python3"
  },
  "language_info": {
   "codemirror_mode": {
    "name": "ipython",
    "version": 3
   },
   "file_extension": ".py",
   "mimetype": "text/x-python",
   "name": "python",
   "nbconvert_exporter": "python",
   "pygments_lexer": "ipython3",
   "version": "3.9.7"
  }
 },
 "nbformat": 4,
 "nbformat_minor": 5
}
